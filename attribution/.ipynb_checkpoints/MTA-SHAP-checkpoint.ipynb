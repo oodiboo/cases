{
 "cells": [
  {
   "cell_type": "code",
   "execution_count": 1,
   "metadata": {
    "ExecuteTime": {
     "end_time": "2021-05-19T11:59:10.593027Z",
     "start_time": "2021-05-19T11:59:08.518908Z"
    }
   },
   "outputs": [],
   "source": [
    "import pandas as pd\n",
    "import os\n",
    "import numpy as np"
   ]
  },
  {
   "cell_type": "code",
   "execution_count": 2,
   "metadata": {
    "ExecuteTime": {
     "end_time": "2021-05-19T11:59:11.493299Z",
     "start_time": "2021-05-19T11:59:10.626964Z"
    }
   },
   "outputs": [],
   "source": [
    "df = pd.read_csv('attribution data.csv')\n",
    "df['Date_time'] = pd.to_datetime(df['time'] , format = '%Y-%m-%dT%H:%M:%SZ')"
   ]
  },
  {
   "cell_type": "markdown",
   "metadata": {},
   "source": [
    "# Data preprocessing"
   ]
  },
  {
   "cell_type": "code",
   "execution_count": 3,
   "metadata": {
    "ExecuteTime": {
     "end_time": "2021-05-18T13:12:20.613939Z",
     "start_time": "2021-05-18T13:12:20.581042Z"
    }
   },
   "outputs": [],
   "source": [
    "mark_df = df[['cookie', 'Date_time', 'channel', 'conversion', 'conversion_value']]"
   ]
  },
  {
   "cell_type": "code",
   "execution_count": 4,
   "metadata": {},
   "outputs": [],
   "source": [
    "# Markup purchase we neet to find out paths with 1st purchase\n",
    "mark_df = mark_df.sort_values(['cookie','Date_time']).reset_index(drop = True)\n",
    "mark_df['N_path'] = mark_df.groupby('cookie')['conversion'].shift(1).fillna(0)\n",
    "mark_df['N_path'] = mark_df.groupby('cookie')['N_path'].cumsum() + 1\n",
    "mark_df['N_path'] = mark_df['N_path'].astype(int)"
   ]
  },
  {
   "cell_type": "code",
   "execution_count": 5,
   "metadata": {
    "ExecuteTime": {
     "end_time": "2021-05-18T13:12:38.362360Z",
     "start_time": "2021-05-18T13:12:38.350392Z"
    }
   },
   "outputs": [
    {
     "data": {
      "text/html": [
       "<div>\n",
       "<style scoped>\n",
       "    .dataframe tbody tr th:only-of-type {\n",
       "        vertical-align: middle;\n",
       "    }\n",
       "\n",
       "    .dataframe tbody tr th {\n",
       "        vertical-align: top;\n",
       "    }\n",
       "\n",
       "    .dataframe thead th {\n",
       "        text-align: right;\n",
       "    }\n",
       "</style>\n",
       "<table border=\"1\" class=\"dataframe\">\n",
       "  <thead>\n",
       "    <tr style=\"text-align: right;\">\n",
       "      <th></th>\n",
       "      <th>cookie</th>\n",
       "      <th>Date_time</th>\n",
       "      <th>channel</th>\n",
       "      <th>conversion</th>\n",
       "      <th>conversion_value</th>\n",
       "      <th>N_path</th>\n",
       "    </tr>\n",
       "  </thead>\n",
       "  <tbody>\n",
       "    <tr>\n",
       "      <th>0</th>\n",
       "      <td>00000FkCnDfDDf0iC97iC703B</td>\n",
       "      <td>2018-07-03 13:02:11</td>\n",
       "      <td>Instagram</td>\n",
       "      <td>0</td>\n",
       "      <td>0.0</td>\n",
       "      <td>1</td>\n",
       "    </tr>\n",
       "    <tr>\n",
       "      <th>1</th>\n",
       "      <td>00000FkCnDfDDf0iC97iC703B</td>\n",
       "      <td>2018-07-17 19:15:07</td>\n",
       "      <td>Online Display</td>\n",
       "      <td>0</td>\n",
       "      <td>0.0</td>\n",
       "      <td>1</td>\n",
       "    </tr>\n",
       "    <tr>\n",
       "      <th>2</th>\n",
       "      <td>00000FkCnDfDDf0iC97iC703B</td>\n",
       "      <td>2018-07-24 15:51:46</td>\n",
       "      <td>Online Display</td>\n",
       "      <td>0</td>\n",
       "      <td>0.0</td>\n",
       "      <td>1</td>\n",
       "    </tr>\n",
       "    <tr>\n",
       "      <th>3</th>\n",
       "      <td>00000FkCnDfDDf0iC97iC703B</td>\n",
       "      <td>2018-07-29 07:44:51</td>\n",
       "      <td>Online Display</td>\n",
       "      <td>0</td>\n",
       "      <td>0.0</td>\n",
       "      <td>1</td>\n",
       "    </tr>\n",
       "    <tr>\n",
       "      <th>4</th>\n",
       "      <td>0000nACkD9nFkBBDECD3ki00E</td>\n",
       "      <td>2018-07-03 09:44:57</td>\n",
       "      <td>Paid Search</td>\n",
       "      <td>0</td>\n",
       "      <td>0.0</td>\n",
       "      <td>1</td>\n",
       "    </tr>\n",
       "  </tbody>\n",
       "</table>\n",
       "</div>"
      ],
      "text/plain": [
       "                      cookie           Date_time         channel  conversion  \\\n",
       "0  00000FkCnDfDDf0iC97iC703B 2018-07-03 13:02:11       Instagram           0   \n",
       "1  00000FkCnDfDDf0iC97iC703B 2018-07-17 19:15:07  Online Display           0   \n",
       "2  00000FkCnDfDDf0iC97iC703B 2018-07-24 15:51:46  Online Display           0   \n",
       "3  00000FkCnDfDDf0iC97iC703B 2018-07-29 07:44:51  Online Display           0   \n",
       "4  0000nACkD9nFkBBDECD3ki00E 2018-07-03 09:44:57     Paid Search           0   \n",
       "\n",
       "   conversion_value  N_path  \n",
       "0               0.0       1  \n",
       "1               0.0       1  \n",
       "2               0.0       1  \n",
       "3               0.0       1  \n",
       "4               0.0       1  "
      ]
     },
     "execution_count": 5,
     "metadata": {},
     "output_type": "execute_result"
    }
   ],
   "source": [
    "mark_df.head()"
   ]
  },
  {
   "cell_type": "code",
   "execution_count": 6,
   "metadata": {},
   "outputs": [
    {
     "data": {
      "text/plain": [
       "array(['Instagram', 'Online Display', 'Paid Search', 'Facebook',\n",
       "       'Online Video'], dtype=object)"
      ]
     },
     "execution_count": 6,
     "metadata": {},
     "output_type": "execute_result"
    }
   ],
   "source": [
    "mark_df.channel.unique()"
   ]
  },
  {
   "cell_type": "code",
   "execution_count": 7,
   "metadata": {
    "ExecuteTime": {
     "end_time": "2021-05-18T13:12:46.722950Z",
     "start_time": "2021-05-18T13:12:46.653851Z"
    }
   },
   "outputs": [
    {
     "data": {
      "text/plain": [
       "17639"
      ]
     },
     "execution_count": 7,
     "metadata": {},
     "output_type": "execute_result"
    }
   ],
   "source": [
    "mark_df[mark_df['N_path'] == 1]['conversion'].sum()"
   ]
  },
  {
   "cell_type": "code",
   "execution_count": 8,
   "metadata": {
    "ExecuteTime": {
     "end_time": "2021-05-18T13:13:06.983428Z",
     "start_time": "2021-05-18T13:13:06.916516Z"
    }
   },
   "outputs": [],
   "source": [
    "# filter only 1st purchase\n",
    "frst_path_df = mark_df[mark_df['N_path'] == 1].loc[:, 'cookie':'conversion_value']"
   ]
  },
  {
   "cell_type": "code",
   "execution_count": 9,
   "metadata": {
    "ExecuteTime": {
     "end_time": "2021-05-18T13:13:07.931316Z",
     "start_time": "2021-05-18T13:13:07.918352Z"
    }
   },
   "outputs": [
    {
     "data": {
      "text/html": [
       "<div>\n",
       "<style scoped>\n",
       "    .dataframe tbody tr th:only-of-type {\n",
       "        vertical-align: middle;\n",
       "    }\n",
       "\n",
       "    .dataframe tbody tr th {\n",
       "        vertical-align: top;\n",
       "    }\n",
       "\n",
       "    .dataframe thead th {\n",
       "        text-align: right;\n",
       "    }\n",
       "</style>\n",
       "<table border=\"1\" class=\"dataframe\">\n",
       "  <thead>\n",
       "    <tr style=\"text-align: right;\">\n",
       "      <th></th>\n",
       "      <th>cookie</th>\n",
       "      <th>Date_time</th>\n",
       "      <th>channel</th>\n",
       "      <th>conversion</th>\n",
       "      <th>conversion_value</th>\n",
       "    </tr>\n",
       "  </thead>\n",
       "  <tbody>\n",
       "    <tr>\n",
       "      <th>0</th>\n",
       "      <td>00000FkCnDfDDf0iC97iC703B</td>\n",
       "      <td>2018-07-03 13:02:11</td>\n",
       "      <td>Instagram</td>\n",
       "      <td>0</td>\n",
       "      <td>0.0</td>\n",
       "    </tr>\n",
       "    <tr>\n",
       "      <th>1</th>\n",
       "      <td>00000FkCnDfDDf0iC97iC703B</td>\n",
       "      <td>2018-07-17 19:15:07</td>\n",
       "      <td>Online Display</td>\n",
       "      <td>0</td>\n",
       "      <td>0.0</td>\n",
       "    </tr>\n",
       "    <tr>\n",
       "      <th>2</th>\n",
       "      <td>00000FkCnDfDDf0iC97iC703B</td>\n",
       "      <td>2018-07-24 15:51:46</td>\n",
       "      <td>Online Display</td>\n",
       "      <td>0</td>\n",
       "      <td>0.0</td>\n",
       "    </tr>\n",
       "    <tr>\n",
       "      <th>3</th>\n",
       "      <td>00000FkCnDfDDf0iC97iC703B</td>\n",
       "      <td>2018-07-29 07:44:51</td>\n",
       "      <td>Online Display</td>\n",
       "      <td>0</td>\n",
       "      <td>0.0</td>\n",
       "    </tr>\n",
       "    <tr>\n",
       "      <th>4</th>\n",
       "      <td>0000nACkD9nFkBBDECD3ki00E</td>\n",
       "      <td>2018-07-03 09:44:57</td>\n",
       "      <td>Paid Search</td>\n",
       "      <td>0</td>\n",
       "      <td>0.0</td>\n",
       "    </tr>\n",
       "  </tbody>\n",
       "</table>\n",
       "</div>"
      ],
      "text/plain": [
       "                      cookie           Date_time         channel  conversion  \\\n",
       "0  00000FkCnDfDDf0iC97iC703B 2018-07-03 13:02:11       Instagram           0   \n",
       "1  00000FkCnDfDDf0iC97iC703B 2018-07-17 19:15:07  Online Display           0   \n",
       "2  00000FkCnDfDDf0iC97iC703B 2018-07-24 15:51:46  Online Display           0   \n",
       "3  00000FkCnDfDDf0iC97iC703B 2018-07-29 07:44:51  Online Display           0   \n",
       "4  0000nACkD9nFkBBDECD3ki00E 2018-07-03 09:44:57     Paid Search           0   \n",
       "\n",
       "   conversion_value  \n",
       "0               0.0  \n",
       "1               0.0  \n",
       "2               0.0  \n",
       "3               0.0  \n",
       "4               0.0  "
      ]
     },
     "execution_count": 9,
     "metadata": {},
     "output_type": "execute_result"
    }
   ],
   "source": [
    "frst_path_df.head()"
   ]
  },
  {
   "cell_type": "code",
   "execution_count": 10,
   "metadata": {},
   "outputs": [],
   "source": [
    "# split data on chains\n",
    "class preprocessing:\n",
    "    import pandas as pd\n",
    "    import numpy as np\n",
    "    import math as m\n",
    "    \n",
    "    def __init__(self): \n",
    "        self.single_chains = 0\n",
    "        self.multi_chains = 0 \n",
    "        self.all_chains = 0\n",
    "        self.multi = 0\n",
    "        self.uniq = 0\n",
    "    \n",
    "    def transform(self, df):\n",
    "        \n",
    "        def agg_f(x):\n",
    "             return pd.Series(dict(Sequence = \"%s\" %  ' > '.join(x['channel'])))\n",
    "        # markup chains of path\n",
    "        cut = df.groupby(\"cookie\")[\"channel\"].unique().apply(lambda x: 1 if len(x)==1 else 0)\n",
    "        # frst_path_df - chains with one source: start-->Facebook-->Facebook-->Facebook(conv)\n",
    "        self.uniq = df[df[\"cookie\"].isin((cut[cut==1].index))].reset_index(drop=True)\n",
    "        # multi_paths_df chains with different source: start-->Online Video-->Facebook-->Paid Search(conv)\n",
    "        self.multi = df[df[\"cookie\"].isin((cut[cut==0].index))].reset_index(drop=True)\n",
    "        \n",
    "        #join and add separate for chains\n",
    "        channels_subset = self.uniq.groupby('cookie').apply(agg_f)\n",
    "        #add conversion for chains\n",
    "        conversion = self.uniq.groupby('cookie').sum()\n",
    "        conversion[\"path\"] = channels_subset\n",
    "        self.single_chains = conversion.reset_index()[[\"cookie\", \"path\", \"conversion\",\"conversion_value\"]]\n",
    "        \n",
    "        #the same for multi chains\n",
    "        channels_subset = self.multi.groupby('cookie').apply(agg_f)\n",
    "        conversion = self.multi.groupby('cookie').sum()\n",
    "        conversion[\"path\"] = channels_subset\n",
    "        self.multi_chains = conversion.reset_index()[[\"cookie\", \"path\", \"conversion\",\"conversion_value\"]]\n",
    "        \n",
    "        #the same for all chains\n",
    "        channels_subset = df.groupby('cookie').apply(agg_f)\n",
    "        conversion = df.groupby('cookie').sum()\n",
    "        conversion.rename(columns={\"channel\":\"path\"}, inplace=True)\n",
    "        conversion[\"path\"] = channels_subset\n",
    "        self.all_chains = conversion.reset_index()[[\"cookie\", \"path\", \"conversion\",\"conversion_value\"]]\n",
    "                \n",
    "        return self"
   ]
  },
  {
   "cell_type": "code",
   "execution_count": 11,
   "metadata": {},
   "outputs": [],
   "source": [
    "prep = preprocessing()\n",
    "prep.transform(frst_path_df)\n",
    "uniq_paths_df = prep.single_chains\n",
    "multi_paths_df = prep.multi_chains\n",
    "all_paths_df = prep.all_chains\n",
    "multi_raw_df = prep.multi"
   ]
  },
  {
   "cell_type": "code",
   "execution_count": 12,
   "metadata": {},
   "outputs": [
    {
     "data": {
      "text/html": [
       "<div>\n",
       "<style scoped>\n",
       "    .dataframe tbody tr th:only-of-type {\n",
       "        vertical-align: middle;\n",
       "    }\n",
       "\n",
       "    .dataframe tbody tr th {\n",
       "        vertical-align: top;\n",
       "    }\n",
       "\n",
       "    .dataframe thead th {\n",
       "        text-align: right;\n",
       "    }\n",
       "</style>\n",
       "<table border=\"1\" class=\"dataframe\">\n",
       "  <thead>\n",
       "    <tr style=\"text-align: right;\">\n",
       "      <th></th>\n",
       "      <th>cookie</th>\n",
       "      <th>path</th>\n",
       "      <th>conversion</th>\n",
       "      <th>conversion_value</th>\n",
       "    </tr>\n",
       "  </thead>\n",
       "  <tbody>\n",
       "    <tr>\n",
       "      <th>0</th>\n",
       "      <td>00000FkCnDfDDf0iC97iC703B</td>\n",
       "      <td>Instagram &gt; Online Display &gt; Online Display &gt; ...</td>\n",
       "      <td>0</td>\n",
       "      <td>0.0</td>\n",
       "    </tr>\n",
       "    <tr>\n",
       "      <th>1</th>\n",
       "      <td>0007iiAiFh3ifoo9Ehn3ABB0F</td>\n",
       "      <td>Instagram &gt; Facebook &gt; Facebook &gt; Instagram</td>\n",
       "      <td>0</td>\n",
       "      <td>0.0</td>\n",
       "    </tr>\n",
       "    <tr>\n",
       "      <th>2</th>\n",
       "      <td>000ADEAB7fBin9fEoFFnAohi9</td>\n",
       "      <td>Online Display &gt; Paid Search</td>\n",
       "      <td>0</td>\n",
       "      <td>0.0</td>\n",
       "    </tr>\n",
       "    <tr>\n",
       "      <th>3</th>\n",
       "      <td>000C9f9DnCfoDF03BnfFAEFFC</td>\n",
       "      <td>Online Video &gt; Online Video &gt; Online Video &gt; F...</td>\n",
       "      <td>0</td>\n",
       "      <td>0.0</td>\n",
       "    </tr>\n",
       "    <tr>\n",
       "      <th>4</th>\n",
       "      <td>000DBnhEF0kF0ono0D0F3kCC0</td>\n",
       "      <td>Instagram &gt; Facebook</td>\n",
       "      <td>0</td>\n",
       "      <td>0.0</td>\n",
       "    </tr>\n",
       "  </tbody>\n",
       "</table>\n",
       "</div>"
      ],
      "text/plain": [
       "                      cookie  \\\n",
       "0  00000FkCnDfDDf0iC97iC703B   \n",
       "1  0007iiAiFh3ifoo9Ehn3ABB0F   \n",
       "2  000ADEAB7fBin9fEoFFnAohi9   \n",
       "3  000C9f9DnCfoDF03BnfFAEFFC   \n",
       "4  000DBnhEF0kF0ono0D0F3kCC0   \n",
       "\n",
       "                                                path  conversion  \\\n",
       "0  Instagram > Online Display > Online Display > ...           0   \n",
       "1        Instagram > Facebook > Facebook > Instagram           0   \n",
       "2                       Online Display > Paid Search           0   \n",
       "3  Online Video > Online Video > Online Video > F...           0   \n",
       "4                               Instagram > Facebook           0   \n",
       "\n",
       "   conversion_value  \n",
       "0               0.0  \n",
       "1               0.0  \n",
       "2               0.0  \n",
       "3               0.0  \n",
       "4               0.0  "
      ]
     },
     "execution_count": 12,
     "metadata": {},
     "output_type": "execute_result"
    }
   ],
   "source": [
    "multi_paths_df.head()"
   ]
  },
  {
   "cell_type": "markdown",
   "metadata": {},
   "source": [
    "# Shapley values"
   ]
  },
  {
   "cell_type": "code",
   "execution_count": 13,
   "metadata": {
    "ExecuteTime": {
     "end_time": "2021-05-19T14:37:18.675953Z",
     "start_time": "2021-05-19T14:37:16.360862Z"
    }
   },
   "outputs": [],
   "source": [
    "from math import factorial\n",
    "import itertools\n",
    "from collections import defaultdict\n",
    "from itertools import permutations,combinations"
   ]
  },
  {
   "cell_type": "code",
   "execution_count": 14,
   "metadata": {},
   "outputs": [
    {
     "data": {
      "text/html": [
       "<div>\n",
       "<style scoped>\n",
       "    .dataframe tbody tr th:only-of-type {\n",
       "        vertical-align: middle;\n",
       "    }\n",
       "\n",
       "    .dataframe tbody tr th {\n",
       "        vertical-align: top;\n",
       "    }\n",
       "\n",
       "    .dataframe thead th {\n",
       "        text-align: right;\n",
       "    }\n",
       "</style>\n",
       "<table border=\"1\" class=\"dataframe\">\n",
       "  <thead>\n",
       "    <tr style=\"text-align: right;\">\n",
       "      <th></th>\n",
       "      <th>cookie</th>\n",
       "      <th>Date_time</th>\n",
       "      <th>channel</th>\n",
       "      <th>conversion</th>\n",
       "      <th>conversion_value</th>\n",
       "    </tr>\n",
       "  </thead>\n",
       "  <tbody>\n",
       "    <tr>\n",
       "      <th>0</th>\n",
       "      <td>00000FkCnDfDDf0iC97iC703B</td>\n",
       "      <td>2018-07-03 13:02:11</td>\n",
       "      <td>Instagram</td>\n",
       "      <td>0</td>\n",
       "      <td>0.0</td>\n",
       "    </tr>\n",
       "    <tr>\n",
       "      <th>1</th>\n",
       "      <td>00000FkCnDfDDf0iC97iC703B</td>\n",
       "      <td>2018-07-17 19:15:07</td>\n",
       "      <td>Online Display</td>\n",
       "      <td>0</td>\n",
       "      <td>0.0</td>\n",
       "    </tr>\n",
       "    <tr>\n",
       "      <th>2</th>\n",
       "      <td>00000FkCnDfDDf0iC97iC703B</td>\n",
       "      <td>2018-07-24 15:51:46</td>\n",
       "      <td>Online Display</td>\n",
       "      <td>0</td>\n",
       "      <td>0.0</td>\n",
       "    </tr>\n",
       "    <tr>\n",
       "      <th>3</th>\n",
       "      <td>00000FkCnDfDDf0iC97iC703B</td>\n",
       "      <td>2018-07-29 07:44:51</td>\n",
       "      <td>Online Display</td>\n",
       "      <td>0</td>\n",
       "      <td>0.0</td>\n",
       "    </tr>\n",
       "    <tr>\n",
       "      <th>4</th>\n",
       "      <td>0000nACkD9nFkBBDECD3ki00E</td>\n",
       "      <td>2018-07-03 09:44:57</td>\n",
       "      <td>Paid Search</td>\n",
       "      <td>0</td>\n",
       "      <td>0.0</td>\n",
       "    </tr>\n",
       "    <tr>\n",
       "      <th>...</th>\n",
       "      <td>...</td>\n",
       "      <td>...</td>\n",
       "      <td>...</td>\n",
       "      <td>...</td>\n",
       "      <td>...</td>\n",
       "    </tr>\n",
       "    <tr>\n",
       "      <th>586732</th>\n",
       "      <td>ooooEiB0CCoEf9fiiC90Dfhfk</td>\n",
       "      <td>2018-07-12 23:50:45</td>\n",
       "      <td>Online Display</td>\n",
       "      <td>0</td>\n",
       "      <td>0.0</td>\n",
       "    </tr>\n",
       "    <tr>\n",
       "      <th>586733</th>\n",
       "      <td>ooooEiB0CCoEf9fiiC90Dfhfk</td>\n",
       "      <td>2018-07-12 23:50:54</td>\n",
       "      <td>Online Display</td>\n",
       "      <td>0</td>\n",
       "      <td>0.0</td>\n",
       "    </tr>\n",
       "    <tr>\n",
       "      <th>586734</th>\n",
       "      <td>ooooiBh70D3k3BfAhDFfii9h7</td>\n",
       "      <td>2018-07-03 12:57:25</td>\n",
       "      <td>Paid Search</td>\n",
       "      <td>0</td>\n",
       "      <td>0.0</td>\n",
       "    </tr>\n",
       "    <tr>\n",
       "      <th>586735</th>\n",
       "      <td>ooooiBh70D3k3BfAhDFfii9h7</td>\n",
       "      <td>2018-07-19 08:17:59</td>\n",
       "      <td>Online Video</td>\n",
       "      <td>0</td>\n",
       "      <td>0.0</td>\n",
       "    </tr>\n",
       "    <tr>\n",
       "      <th>586736</th>\n",
       "      <td>ooooohAFofEnonEikhAi3fF9o</td>\n",
       "      <td>2018-07-14 17:17:12</td>\n",
       "      <td>Paid Search</td>\n",
       "      <td>0</td>\n",
       "      <td>0.0</td>\n",
       "    </tr>\n",
       "  </tbody>\n",
       "</table>\n",
       "<p>586737 rows × 5 columns</p>\n",
       "</div>"
      ],
      "text/plain": [
       "                           cookie           Date_time         channel  \\\n",
       "0       00000FkCnDfDDf0iC97iC703B 2018-07-03 13:02:11       Instagram   \n",
       "1       00000FkCnDfDDf0iC97iC703B 2018-07-17 19:15:07  Online Display   \n",
       "2       00000FkCnDfDDf0iC97iC703B 2018-07-24 15:51:46  Online Display   \n",
       "3       00000FkCnDfDDf0iC97iC703B 2018-07-29 07:44:51  Online Display   \n",
       "4       0000nACkD9nFkBBDECD3ki00E 2018-07-03 09:44:57     Paid Search   \n",
       "...                           ...                 ...             ...   \n",
       "586732  ooooEiB0CCoEf9fiiC90Dfhfk 2018-07-12 23:50:45  Online Display   \n",
       "586733  ooooEiB0CCoEf9fiiC90Dfhfk 2018-07-12 23:50:54  Online Display   \n",
       "586734  ooooiBh70D3k3BfAhDFfii9h7 2018-07-03 12:57:25     Paid Search   \n",
       "586735  ooooiBh70D3k3BfAhDFfii9h7 2018-07-19 08:17:59    Online Video   \n",
       "586736  ooooohAFofEnonEikhAi3fF9o 2018-07-14 17:17:12     Paid Search   \n",
       "\n",
       "        conversion  conversion_value  \n",
       "0                0               0.0  \n",
       "1                0               0.0  \n",
       "2                0               0.0  \n",
       "3                0               0.0  \n",
       "4                0               0.0  \n",
       "...            ...               ...  \n",
       "586732           0               0.0  \n",
       "586733           0               0.0  \n",
       "586734           0               0.0  \n",
       "586735           0               0.0  \n",
       "586736           0               0.0  \n",
       "\n",
       "[586737 rows x 5 columns]"
      ]
     },
     "execution_count": 14,
     "metadata": {},
     "output_type": "execute_result"
    }
   ],
   "source": [
    "frst_path_df"
   ]
  },
  {
   "cell_type": "markdown",
   "metadata": {},
   "source": [
    "## conversion_value"
   ]
  },
  {
   "cell_type": "code",
   "execution_count": 15,
   "metadata": {},
   "outputs": [],
   "source": [
    "data_1 = frst_path_df[['cookie', 'channel', 'conversion_value']].sort_values(by=['cookie', 'channel'])\n",
    "data_2 = data_1.groupby(['cookie'], as_index=False).agg({'channel': lambda x: '>'.join(map(str,x.unique())),'conversion_value':sum})\n",
    "data_2.rename(columns={'channel':'marketing_channel_subset'}, inplace=True)\n",
    "data_3 = data_2.groupby(['marketing_channel_subset'], as_index=False).agg(sum)"
   ]
  },
  {
   "cell_type": "code",
   "execution_count": 16,
   "metadata": {},
   "outputs": [
    {
     "data": {
      "text/html": [
       "<div>\n",
       "<style scoped>\n",
       "    .dataframe tbody tr th:only-of-type {\n",
       "        vertical-align: middle;\n",
       "    }\n",
       "\n",
       "    .dataframe tbody tr th {\n",
       "        vertical-align: top;\n",
       "    }\n",
       "\n",
       "    .dataframe thead th {\n",
       "        text-align: right;\n",
       "    }\n",
       "</style>\n",
       "<table border=\"1\" class=\"dataframe\">\n",
       "  <thead>\n",
       "    <tr style=\"text-align: right;\">\n",
       "      <th></th>\n",
       "      <th>marketing_channel_subset</th>\n",
       "      <th>conversion_value</th>\n",
       "    </tr>\n",
       "  </thead>\n",
       "  <tbody>\n",
       "    <tr>\n",
       "      <th>0</th>\n",
       "      <td>Facebook</td>\n",
       "      <td>18736.0</td>\n",
       "    </tr>\n",
       "    <tr>\n",
       "      <th>1</th>\n",
       "      <td>Facebook&gt;Instagram</td>\n",
       "      <td>14157.0</td>\n",
       "    </tr>\n",
       "    <tr>\n",
       "      <th>2</th>\n",
       "      <td>Facebook&gt;Instagram&gt;Online Display</td>\n",
       "      <td>1014.5</td>\n",
       "    </tr>\n",
       "    <tr>\n",
       "      <th>3</th>\n",
       "      <td>Facebook&gt;Instagram&gt;Online Display&gt;Online Video</td>\n",
       "      <td>92.0</td>\n",
       "    </tr>\n",
       "    <tr>\n",
       "      <th>4</th>\n",
       "      <td>Facebook&gt;Instagram&gt;Online Display&gt;Online Video...</td>\n",
       "      <td>79.0</td>\n",
       "    </tr>\n",
       "    <tr>\n",
       "      <th>5</th>\n",
       "      <td>Facebook&gt;Instagram&gt;Online Display&gt;Paid Search</td>\n",
       "      <td>612.0</td>\n",
       "    </tr>\n",
       "    <tr>\n",
       "      <th>6</th>\n",
       "      <td>Facebook&gt;Instagram&gt;Online Video</td>\n",
       "      <td>1334.5</td>\n",
       "    </tr>\n",
       "    <tr>\n",
       "      <th>7</th>\n",
       "      <td>Facebook&gt;Instagram&gt;Online Video&gt;Paid Search</td>\n",
       "      <td>361.5</td>\n",
       "    </tr>\n",
       "    <tr>\n",
       "      <th>8</th>\n",
       "      <td>Facebook&gt;Instagram&gt;Paid Search</td>\n",
       "      <td>2321.0</td>\n",
       "    </tr>\n",
       "    <tr>\n",
       "      <th>9</th>\n",
       "      <td>Facebook&gt;Online Display</td>\n",
       "      <td>1010.0</td>\n",
       "    </tr>\n",
       "    <tr>\n",
       "      <th>10</th>\n",
       "      <td>Facebook&gt;Online Display&gt;Online Video</td>\n",
       "      <td>120.0</td>\n",
       "    </tr>\n",
       "    <tr>\n",
       "      <th>11</th>\n",
       "      <td>Facebook&gt;Online Display&gt;Online Video&gt;Paid Search</td>\n",
       "      <td>84.0</td>\n",
       "    </tr>\n",
       "    <tr>\n",
       "      <th>12</th>\n",
       "      <td>Facebook&gt;Online Display&gt;Paid Search</td>\n",
       "      <td>511.5</td>\n",
       "    </tr>\n",
       "    <tr>\n",
       "      <th>13</th>\n",
       "      <td>Facebook&gt;Online Video</td>\n",
       "      <td>1808.5</td>\n",
       "    </tr>\n",
       "    <tr>\n",
       "      <th>14</th>\n",
       "      <td>Facebook&gt;Online Video&gt;Paid Search</td>\n",
       "      <td>560.0</td>\n",
       "    </tr>\n",
       "    <tr>\n",
       "      <th>15</th>\n",
       "      <td>Facebook&gt;Paid Search</td>\n",
       "      <td>2858.5</td>\n",
       "    </tr>\n",
       "    <tr>\n",
       "      <th>16</th>\n",
       "      <td>Instagram</td>\n",
       "      <td>6446.0</td>\n",
       "    </tr>\n",
       "    <tr>\n",
       "      <th>17</th>\n",
       "      <td>Instagram&gt;Online Display</td>\n",
       "      <td>356.0</td>\n",
       "    </tr>\n",
       "    <tr>\n",
       "      <th>18</th>\n",
       "      <td>Instagram&gt;Online Display&gt;Online Video</td>\n",
       "      <td>34.0</td>\n",
       "    </tr>\n",
       "    <tr>\n",
       "      <th>19</th>\n",
       "      <td>Instagram&gt;Online Display&gt;Online Video&gt;Paid Search</td>\n",
       "      <td>8.0</td>\n",
       "    </tr>\n",
       "    <tr>\n",
       "      <th>20</th>\n",
       "      <td>Instagram&gt;Online Display&gt;Paid Search</td>\n",
       "      <td>195.5</td>\n",
       "    </tr>\n",
       "    <tr>\n",
       "      <th>21</th>\n",
       "      <td>Instagram&gt;Online Video</td>\n",
       "      <td>768.5</td>\n",
       "    </tr>\n",
       "    <tr>\n",
       "      <th>22</th>\n",
       "      <td>Instagram&gt;Online Video&gt;Paid Search</td>\n",
       "      <td>99.5</td>\n",
       "    </tr>\n",
       "    <tr>\n",
       "      <th>23</th>\n",
       "      <td>Instagram&gt;Paid Search</td>\n",
       "      <td>811.0</td>\n",
       "    </tr>\n",
       "    <tr>\n",
       "      <th>24</th>\n",
       "      <td>Online Display</td>\n",
       "      <td>9788.5</td>\n",
       "    </tr>\n",
       "    <tr>\n",
       "      <th>25</th>\n",
       "      <td>Online Display&gt;Online Video</td>\n",
       "      <td>525.5</td>\n",
       "    </tr>\n",
       "    <tr>\n",
       "      <th>26</th>\n",
       "      <td>Online Display&gt;Online Video&gt;Paid Search</td>\n",
       "      <td>225.0</td>\n",
       "    </tr>\n",
       "    <tr>\n",
       "      <th>27</th>\n",
       "      <td>Online Display&gt;Paid Search</td>\n",
       "      <td>3350.5</td>\n",
       "    </tr>\n",
       "    <tr>\n",
       "      <th>28</th>\n",
       "      <td>Online Video</td>\n",
       "      <td>16597.5</td>\n",
       "    </tr>\n",
       "    <tr>\n",
       "      <th>29</th>\n",
       "      <td>Online Video&gt;Paid Search</td>\n",
       "      <td>1948.5</td>\n",
       "    </tr>\n",
       "    <tr>\n",
       "      <th>30</th>\n",
       "      <td>Paid Search</td>\n",
       "      <td>23417.0</td>\n",
       "    </tr>\n",
       "  </tbody>\n",
       "</table>\n",
       "</div>"
      ],
      "text/plain": [
       "                             marketing_channel_subset  conversion_value\n",
       "0                                            Facebook           18736.0\n",
       "1                                  Facebook>Instagram           14157.0\n",
       "2                   Facebook>Instagram>Online Display            1014.5\n",
       "3      Facebook>Instagram>Online Display>Online Video              92.0\n",
       "4   Facebook>Instagram>Online Display>Online Video...              79.0\n",
       "5       Facebook>Instagram>Online Display>Paid Search             612.0\n",
       "6                     Facebook>Instagram>Online Video            1334.5\n",
       "7         Facebook>Instagram>Online Video>Paid Search             361.5\n",
       "8                      Facebook>Instagram>Paid Search            2321.0\n",
       "9                             Facebook>Online Display            1010.0\n",
       "10               Facebook>Online Display>Online Video             120.0\n",
       "11   Facebook>Online Display>Online Video>Paid Search              84.0\n",
       "12                Facebook>Online Display>Paid Search             511.5\n",
       "13                              Facebook>Online Video            1808.5\n",
       "14                  Facebook>Online Video>Paid Search             560.0\n",
       "15                               Facebook>Paid Search            2858.5\n",
       "16                                          Instagram            6446.0\n",
       "17                           Instagram>Online Display             356.0\n",
       "18              Instagram>Online Display>Online Video              34.0\n",
       "19  Instagram>Online Display>Online Video>Paid Search               8.0\n",
       "20               Instagram>Online Display>Paid Search             195.5\n",
       "21                             Instagram>Online Video             768.5\n",
       "22                 Instagram>Online Video>Paid Search              99.5\n",
       "23                              Instagram>Paid Search             811.0\n",
       "24                                     Online Display            9788.5\n",
       "25                        Online Display>Online Video             525.5\n",
       "26            Online Display>Online Video>Paid Search             225.0\n",
       "27                         Online Display>Paid Search            3350.5\n",
       "28                                       Online Video           16597.5\n",
       "29                           Online Video>Paid Search            1948.5\n",
       "30                                        Paid Search           23417.0"
      ]
     },
     "execution_count": 16,
     "metadata": {},
     "output_type": "execute_result"
    }
   ],
   "source": [
    "data_3"
   ]
  },
  {
   "cell_type": "code",
   "execution_count": 126,
   "metadata": {},
   "outputs": [],
   "source": [
    "def set_lists_of_channel(List):\n",
    "    PS = [list(j) for i in range(len(List)) for j in itertools.combinations(List, i+1)]\n",
    "    return PS"
   ]
  },
  {
   "cell_type": "code",
   "execution_count": 127,
   "metadata": {
    "ExecuteTime": {
     "end_time": "2021-05-19T14:37:31.375398Z",
     "start_time": "2021-05-19T14:37:31.345446Z"
    }
   },
   "outputs": [],
   "source": [
    "# return list of all possible sets of channels\n",
    "def subsets(s):\n",
    "    if len(s)==1:\n",
    "        return s\n",
    "    else:\n",
    "        sub_channels=[]\n",
    "        for i in range(1,len(s)+1):\n",
    "            sub_channels.extend(map(list,itertools.combinations(s, i)))\n",
    "    return list(map(\",\".join,map(sorted,sub_channels)))\n",
    "\n",
    "#computing the total value for each chains\n",
    "def v_function(A,C_values):\n",
    "    '''\n",
    "        - A : set of channels\n",
    "        - C_values : dict with values of conversions that each set of channels has given\n",
    "    '''\n",
    "    subsets_of_A = subsets(A)\n",
    "    worth_of_A=0\n",
    "    for subset in subsets_of_A:\n",
    "        if subset in C_values:\n",
    "            worth_of_A += C_values[subset]\n",
    "    return worth_of_A"
   ]
  },
  {
   "cell_type": "code",
   "execution_count": 128,
   "metadata": {
    "ExecuteTime": {
     "end_time": "2021-05-19T14:37:31.391323Z",
     "start_time": "2021-05-19T14:37:31.377363Z"
    }
   },
   "outputs": [],
   "source": [
    "def calculate_shapley(df, channel_name, conv_name):\n",
    "    '''\n",
    "        - df: A dataframe with the two columns: ['channel_subset', 'conversion_value'].\n",
    "        - channel_name: name of the channel column \n",
    "        - conv_name: name of the column with conversions\n",
    "        !need an alphabetical order.            \n",
    "    '''\n",
    "    # dict with chains of channel and their value\n",
    "    c_values = df.set_index(channel_name).to_dict()[conv_name]\n",
    "    # chains with one channel\n",
    "    df['channels'] = df[channel_name].apply(lambda x: x if len(x.split(\">\")) == 1 else np.nan)\n",
    "    # list of channel\n",
    "    channels = list(df['channels'].dropna().unique())\n",
    "    \n",
    "    v_values = {}\n",
    "    #generate all possible channel combination\n",
    "    for A in set_lists_of_channel(channels): \n",
    "        v_values['>'.join(sorted(A))] = v_function(A,c_values)\n",
    "    # count of channels\n",
    "    n=len(channels)\n",
    "    shapley_values = defaultdict(int)\n",
    "\n",
    "    for channel in channels:\n",
    "        for A in v_values.keys():\n",
    "            if channel not in A.split(\">\"):\n",
    "                cardinal_A=len(A.split(\">\"))\n",
    "                A_with_channel = A.split(\">\")\n",
    "                A_with_channel.append(channel)            \n",
    "                A_with_channel=\">\".join(sorted(A_with_channel))\n",
    "                #calc weight = |S|!(n-|S|-1)!/n!\n",
    "                weight = (factorial(cardinal_A)*factorial(n-cardinal_A-1)/factorial(n))\n",
    "                #calc marginal contribution = v(S U {i})-v(S)\n",
    "                contrib = (v_values[A_with_channel]-v_values[A])\n",
    "                shapley_values[channel] += weight * contrib\n",
    "        # Add calculated value to channel\n",
    "        shapley_values[channel]+= v_values[channel]/n \n",
    "        \n",
    "    return shapley_values"
   ]
  },
  {
   "cell_type": "code",
   "execution_count": 129,
   "metadata": {
    "ExecuteTime": {
     "end_time": "2021-05-19T14:37:31.422273Z",
     "start_time": "2021-05-19T14:37:31.393317Z"
    }
   },
   "outputs": [],
   "source": [
    "shapley_dict = calculate_shapley(data_3, 'marketing_channel_subset', 'conversion_value')"
   ]
  },
  {
   "cell_type": "code",
   "execution_count": 130,
   "metadata": {
    "ExecuteTime": {
     "end_time": "2021-05-19T14:37:31.438230Z",
     "start_time": "2021-05-19T14:37:31.424234Z"
    }
   },
   "outputs": [
    {
     "data": {
      "text/plain": [
       "defaultdict(int,\n",
       "            {'Facebook': 18735.999999999996,\n",
       "             'Instagram': 6446.000000000001,\n",
       "             'Online Display': 9788.5,\n",
       "             'Online Video': 16597.5,\n",
       "             'Paid Search': 23417.0})"
      ]
     },
     "execution_count": 130,
     "metadata": {},
     "output_type": "execute_result"
    }
   ],
   "source": [
    "shapley_dict"
   ]
  },
  {
   "cell_type": "code",
   "execution_count": 145,
   "metadata": {
    "ExecuteTime": {
     "end_time": "2021-05-19T14:37:31.454154Z",
     "start_time": "2021-05-19T14:37:31.439196Z"
    }
   },
   "outputs": [
    {
     "data": {
      "text/html": [
       "<div>\n",
       "<style scoped>\n",
       "    .dataframe tbody tr th:only-of-type {\n",
       "        vertical-align: middle;\n",
       "    }\n",
       "\n",
       "    .dataframe tbody tr th {\n",
       "        vertical-align: top;\n",
       "    }\n",
       "\n",
       "    .dataframe thead th {\n",
       "        text-align: right;\n",
       "    }\n",
       "</style>\n",
       "<table border=\"1\" class=\"dataframe\">\n",
       "  <thead>\n",
       "    <tr style=\"text-align: right;\">\n",
       "      <th></th>\n",
       "      <th>channel</th>\n",
       "      <th>shapley_value</th>\n",
       "      <th>share</th>\n",
       "    </tr>\n",
       "  </thead>\n",
       "  <tbody>\n",
       "    <tr>\n",
       "      <th>4</th>\n",
       "      <td>Paid Search</td>\n",
       "      <td>23417.0</td>\n",
       "      <td>0.312289</td>\n",
       "    </tr>\n",
       "    <tr>\n",
       "      <th>0</th>\n",
       "      <td>Facebook</td>\n",
       "      <td>18736.0</td>\n",
       "      <td>0.249863</td>\n",
       "    </tr>\n",
       "    <tr>\n",
       "      <th>3</th>\n",
       "      <td>Online Video</td>\n",
       "      <td>16597.5</td>\n",
       "      <td>0.221344</td>\n",
       "    </tr>\n",
       "    <tr>\n",
       "      <th>2</th>\n",
       "      <td>Online Display</td>\n",
       "      <td>9788.5</td>\n",
       "      <td>0.130539</td>\n",
       "    </tr>\n",
       "    <tr>\n",
       "      <th>1</th>\n",
       "      <td>Instagram</td>\n",
       "      <td>6446.0</td>\n",
       "      <td>0.085964</td>\n",
       "    </tr>\n",
       "  </tbody>\n",
       "</table>\n",
       "</div>"
      ],
      "text/plain": [
       "          channel  shapley_value     share\n",
       "4     Paid Search        23417.0  0.312289\n",
       "0        Facebook        18736.0  0.249863\n",
       "3    Online Video        16597.5  0.221344\n",
       "2  Online Display         9788.5  0.130539\n",
       "1       Instagram         6446.0  0.085964"
      ]
     },
     "execution_count": 145,
     "metadata": {},
     "output_type": "execute_result"
    }
   ],
   "source": [
    "shapley_value_df = pd.DataFrame(shapley_dict.items(), columns = ['channel', 'shapley_value'])\n",
    "shapley_value_df['share'] = value_shapley_df['conversion_value'] / value_shapley_df['conversion_value'].sum()\n",
    "shapley_value_df.sort_values(by='share',ascending=False)"
   ]
  },
  {
   "cell_type": "code",
   "execution_count": 155,
   "metadata": {},
   "outputs": [
    {
     "data": {
      "image/png": "[encoded data removed]",
      "text/plain": [
       "<Figure size 1080x576 with 1 Axes>"
      ]
     },
     "metadata": {
      "needs_background": "light"
     },
     "output_type": "display_data"
    }
   ],
   "source": [
    "plt.subplots(figsize=(15,8))\n",
    "s = sns.barplot(x='channel', y='shapley_value', data=shapley_value_df)\n",
    "for idx, row in shapley_value_df.iterrows():\n",
    "    s.text(row.name, row.shapley_value + 15, round(row.shapley_value,1), ha='center', color='darkslategray', fontweight='semibold')\n",
    "# sns.despine(top=True, right=True)\n",
    "plt.show()"
   ]
  },
  {
   "cell_type": "code",
   "execution_count": 134,
   "metadata": {},
   "outputs": [],
   "source": [
    "import matplotlib as mpl\n",
    "import matplotlib.pyplot as plt\n",
    "import seaborn as sns"
   ]
  },
  {
   "cell_type": "code",
   "execution_count": 150,
   "metadata": {},
   "outputs": [
    {
     "name": "stderr",
     "output_type": "stream",
     "text": [
      "findfont: Font family ['san-serif'] not found. Falling back to DejaVu Sans.\n"
     ]
    },
    {
     "data": {
      "image/png": "[encoded data removed]",
      "text/plain": [
       "<Figure size 1080x576 with 1 Axes>"
      ]
     },
     "metadata": {
      "needs_background": "light"
     },
     "output_type": "display_data"
    }
   ],
   "source": [
    "plt.subplots(figsize=(15,8))\n",
    "s = sns.barplot(x='channel', y='shapley_value', data=shapley_value_df)\n",
    "sns.despine(top=True, right=True)\n",
    "for idx, row in shapley_value_df.iterrows():\n",
    "    s.text(row.name, row.shapley_value +5, round(row.shapley_value,1), ha='center', color='darkslategray', fontweight='semibold')\n",
    "plt.title(\"ADVERTISING CHANNEL'S SHAPLEY VALUE\", \n",
    "          fontdict={'fontfamily': 'san-serif', 'fontsize': 15, 'fontweight': 'semibold', 'color':'#444455'}, \n",
    "          loc='center', pad=10)\n",
    "plt.show()"
   ]
  },
  {
   "cell_type": "code",
   "execution_count": null,
   "metadata": {
    "ExecuteTime": {
     "end_time": "2021-05-19T14:37:31.752524Z",
     "start_time": "2021-05-19T14:37:31.502028Z"
    }
   },
   "outputs": [],
   "source": [
    "# value_shapley_df.to_excel('value_shapley_conv_v.xlsx')"
   ]
  },
  {
   "cell_type": "markdown",
   "metadata": {},
   "source": [
    "## conversion"
   ]
  },
  {
   "cell_type": "code",
   "execution_count": null,
   "metadata": {
    "ExecuteTime": {
     "end_time": "2021-05-19T14:37:43.588223Z",
     "start_time": "2021-05-19T14:37:43.574261Z"
    }
   },
   "outputs": [],
   "source": [
    "shapley_dict = calculate_shapley(data_lvl3, 'marketing_channel_subset', 'conversion')"
   ]
  },
  {
   "cell_type": "code",
   "execution_count": null,
   "metadata": {
    "ExecuteTime": {
     "end_time": "2021-05-19T14:37:43.604183Z",
     "start_time": "2021-05-19T14:37:43.589223Z"
    }
   },
   "outputs": [],
   "source": [
    "value_shapley_df1 = pd.DataFrame(shapley_dict.items(), columns = ['channel', 'conversion'])"
   ]
  },
  {
   "cell_type": "code",
   "execution_count": null,
   "metadata": {
    "ExecuteTime": {
     "end_time": "2021-05-19T14:39:35.635026Z",
     "start_time": "2021-05-19T14:39:35.618041Z"
    }
   },
   "outputs": [],
   "source": [
    "value_shapley_df1['share'] = value_shapley_df1['conversion'] / value_shapley_df1['conversion'].sum()"
   ]
  },
  {
   "cell_type": "code",
   "execution_count": null,
   "metadata": {
    "ExecuteTime": {
     "end_time": "2021-05-19T14:39:36.466610Z",
     "start_time": "2021-05-19T14:39:36.443679Z"
    }
   },
   "outputs": [],
   "source": [
    "value_shapley_df1.sort_values(by='share',ascending=False)"
   ]
  },
  {
   "cell_type": "code",
   "execution_count": null,
   "metadata": {
    "ExecuteTime": {
     "end_time": "2021-05-19T14:39:36.920756Z",
     "start_time": "2021-05-19T14:39:36.877903Z"
    }
   },
   "outputs": [],
   "source": [
    "# value_shapley_df1.to_excel('value_shapley_df1.xlsx')"
   ]
  },
  {
   "cell_type": "code",
   "execution_count": null,
   "metadata": {},
   "outputs": [],
   "source": []
  }
 ],
 "metadata": {
  "kernelspec": {
   "display_name": "Python 3 (ipykernel)",
   "language": "python",
   "name": "python3"
  },
  "language_info": {
   "codemirror_mode": {
    "name": "ipython",
    "version": 3
   },
   "file_extension": ".py",
   "mimetype": "text/x-python",
   "name": "python",
   "nbconvert_exporter": "python",
   "pygments_lexer": "ipython3",
   "version": "3.9.7"
  },
  "toc": {
   "base_numbering": 1,
   "nav_menu": {},
   "number_sections": true,
   "sideBar": true,
   "skip_h1_title": false,
   "title_cell": "Table of Contents",
   "title_sidebar": "Contents",
   "toc_cell": false,
   "toc_position": {},
   "toc_section_display": true,
   "toc_window_display": false
  }
 },
 "nbformat": 4,
 "nbformat_minor": 4
}
