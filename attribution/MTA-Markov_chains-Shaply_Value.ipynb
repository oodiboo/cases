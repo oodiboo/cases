{
 "cells": [
  {
   "cell_type": "markdown",
   "metadata": {},
   "source": [
    "<b>Данные:</b><br>\n",
    "    Лог событий с показами рекламнного сообщения и совершение конверсионного действия с его ценностью по источникам трафика по каждому пользователю<br>\n",
    "    \n",
    "<b>Период:</b><br>\n",
    "2018-07-01 по 2018-07-31<br>\n",
    "\n",
    "<b>Задача:</b><br>\n",
    "1) Построить мультиканальную атрибуцию:<br>\n",
    "- первое взаимдействие\n",
    "- последнее взаимодейсвие</ul>\n",
    "2) Рассчитать ценность для каждого канала<br>\n",
    "\n",
    "Для решения применяются <b>Марковские цепи</b>, библиотек: https://github.com/jmwoloso/pychattr <br>\n",
    "А так же вычисление <b>Shapley Value</b>\n",
    "\n",
    "<b>Допущения:</b><br>\n",
    "Выводы будут строиться на только на основе текущих данных предполагая что более детальных данных (уровнь campaign/adsets) у нас нет.<br>\n",
    "Не зная затраты на размещение в этих каналах полноценно оценить эффективность невозможно, поэтому основной метрикой оценки будет CR и ценность конверсий.\n",
    "<br>\n",
    "\n",
    "<b>Выводы:</b><br>\n",
    "Paid Search, Instagram и Online Display чаще являются 1м контактом для пользователей, а Online Video и Facebook - последним.(table1)<br> \n",
    "\n",
    "Самая высокая вероятность совершения конверсии у канала Online Display (table2) но поскольку у цепей маркова нет памяти учитывается только переход из этого канала в конверсию, есть преположение что в этот источник включен ретаргетниг в рекламных сетях, этим может объяснятся повышенная конверсия с этого источника, так же фактически у Online Display самая малая доля взаимодействий среди всего сплита каналов, что так же может давать более выскоие значения конверсии, а при увеличении объема cr будет снижаться.\n",
    "\n",
    "<b>Removal effect</b><br>\n",
    "Сильнее всего на объем конверсий повлияет исключение каналов Facebook, Instagram в меньшей степени Online Display.\n",
    "Но здесь имеет значение общий вес Online Display в сплите каналов, из-за того что он не высокий, то влияние на общее кол-во конверсий будет ниже чем могло бы быть.(table3)\n",
    "\n",
    "<b>Shaply Value</b><br>\n",
    "Больше всего ценности приносит Paid Search и Facebook. Менее ценным оказался Instagram\n",
    "\n",
    "<b>Предложения:</b><br>\n",
    "Увеличить бюджет для Online Display и довести его до объемов Paid Search, за счет снижения наименее ценного канала - Instagram, далее пересчиать на новых данных и посмореть на перфоманс и Removal effect."
   ]
  },
  {
   "cell_type": "code",
   "execution_count": 61,
   "metadata": {},
   "outputs": [
    {
     "data": {
      "text/html": [
       "<div>\n",
       "<style scoped>\n",
       "    .dataframe tbody tr th:only-of-type {\n",
       "        vertical-align: middle;\n",
       "    }\n",
       "\n",
       "    .dataframe tbody tr th {\n",
       "        vertical-align: top;\n",
       "    }\n",
       "\n",
       "    .dataframe thead th {\n",
       "        text-align: right;\n",
       "    }\n",
       "</style>\n",
       "<table border=\"1\" class=\"dataframe\">\n",
       "  <thead>\n",
       "    <tr style=\"text-align: right;\">\n",
       "      <th></th>\n",
       "      <th>channel</th>\n",
       "      <th>interaction</th>\n",
       "      <th>share_interaction_%</th>\n",
       "      <th>CR_%</th>\n",
       "      <th>conversion</th>\n",
       "      <th>conversion_value</th>\n",
       "      <th>first_touch_conversions</th>\n",
       "      <th>last_touch_conversions</th>\n",
       "      <th>CR_first_%</th>\n",
       "      <th>CR_last_%</th>\n",
       "      <th>diff_%</th>\n",
       "    </tr>\n",
       "  </thead>\n",
       "  <tbody>\n",
       "    <tr>\n",
       "      <th>0</th>\n",
       "      <td>Facebook</td>\n",
       "      <td>175741</td>\n",
       "      <td>29.95</td>\n",
       "      <td>3.02</td>\n",
       "      <td>5301</td>\n",
       "      <td>33143.5</td>\n",
       "      <td>5177.0</td>\n",
       "      <td>5301.0</td>\n",
       "      <td>2.95</td>\n",
       "      <td>3.02</td>\n",
       "      <td>2.40</td>\n",
       "    </tr>\n",
       "    <tr>\n",
       "      <th>4</th>\n",
       "      <td>Paid Search</td>\n",
       "      <td>151440</td>\n",
       "      <td>25.81</td>\n",
       "      <td>3.00</td>\n",
       "      <td>4547</td>\n",
       "      <td>28331.5</td>\n",
       "      <td>4757.0</td>\n",
       "      <td>4547.0</td>\n",
       "      <td>3.14</td>\n",
       "      <td>3.00</td>\n",
       "      <td>-4.41</td>\n",
       "    </tr>\n",
       "    <tr>\n",
       "      <th>3</th>\n",
       "      <td>Online Video</td>\n",
       "      <td>113302</td>\n",
       "      <td>19.31</td>\n",
       "      <td>3.01</td>\n",
       "      <td>3408</td>\n",
       "      <td>21418.0</td>\n",
       "      <td>3216.0</td>\n",
       "      <td>3408.0</td>\n",
       "      <td>2.84</td>\n",
       "      <td>3.01</td>\n",
       "      <td>5.97</td>\n",
       "    </tr>\n",
       "    <tr>\n",
       "      <th>1</th>\n",
       "      <td>Instagram</td>\n",
       "      <td>75201</td>\n",
       "      <td>12.82</td>\n",
       "      <td>2.98</td>\n",
       "      <td>2244</td>\n",
       "      <td>14039.5</td>\n",
       "      <td>2329.0</td>\n",
       "      <td>2244.0</td>\n",
       "      <td>3.10</td>\n",
       "      <td>2.98</td>\n",
       "      <td>-3.65</td>\n",
       "    </tr>\n",
       "    <tr>\n",
       "      <th>2</th>\n",
       "      <td>Online Display</td>\n",
       "      <td>71053</td>\n",
       "      <td>12.11</td>\n",
       "      <td>3.01</td>\n",
       "      <td>2139</td>\n",
       "      <td>13298.5</td>\n",
       "      <td>2160.0</td>\n",
       "      <td>2139.0</td>\n",
       "      <td>3.04</td>\n",
       "      <td>3.01</td>\n",
       "      <td>-0.97</td>\n",
       "    </tr>\n",
       "  </tbody>\n",
       "</table>\n",
       "</div>"
      ],
      "text/plain": [
       "          channel  interaction  share_interaction_%  CR_%  conversion  \\\n",
       "0        Facebook       175741                29.95  3.02        5301   \n",
       "4     Paid Search       151440                25.81  3.00        4547   \n",
       "3    Online Video       113302                19.31  3.01        3408   \n",
       "1       Instagram        75201                12.82  2.98        2244   \n",
       "2  Online Display        71053                12.11  3.01        2139   \n",
       "\n",
       "   conversion_value  first_touch_conversions  last_touch_conversions  \\\n",
       "0           33143.5                   5177.0                  5301.0   \n",
       "4           28331.5                   4757.0                  4547.0   \n",
       "3           21418.0                   3216.0                  3408.0   \n",
       "1           14039.5                   2329.0                  2244.0   \n",
       "2           13298.5                   2160.0                  2139.0   \n",
       "\n",
       "   CR_first_%  CR_last_%  diff_%  \n",
       "0        2.95       3.02    2.40  \n",
       "4        3.14       3.00   -4.41  \n",
       "3        2.84       3.01    5.97  \n",
       "1        3.10       2.98   -3.65  \n",
       "2        3.04       3.01   -0.97  "
      ]
     },
     "execution_count": 61,
     "metadata": {},
     "output_type": "execute_result"
    }
   ],
   "source": [
    "# table1\n",
    "conv_df.sort_values(['first_touch_conversions'], ascending = False)"
   ]
  },
  {
   "cell_type": "code",
   "execution_count": 62,
   "metadata": {},
   "outputs": [
    {
     "data": {
      "text/html": [
       "<div>\n",
       "<style scoped>\n",
       "    .dataframe tbody tr th:only-of-type {\n",
       "        vertical-align: middle;\n",
       "    }\n",
       "\n",
       "    .dataframe tbody tr th {\n",
       "        vertical-align: top;\n",
       "    }\n",
       "\n",
       "    .dataframe thead th {\n",
       "        text-align: right;\n",
       "    }\n",
       "</style>\n",
       "<table border=\"1\" class=\"dataframe\">\n",
       "  <thead>\n",
       "    <tr style=\"text-align: right;\">\n",
       "      <th></th>\n",
       "      <th>channel_from</th>\n",
       "      <th>channel_to</th>\n",
       "      <th>transition_probability</th>\n",
       "    </tr>\n",
       "  </thead>\n",
       "  <tbody>\n",
       "    <tr>\n",
       "      <th>11</th>\n",
       "      <td>Online Display</td>\n",
       "      <td>(conversion)</td>\n",
       "      <td>0.214286</td>\n",
       "    </tr>\n",
       "    <tr>\n",
       "      <th>25</th>\n",
       "      <td>Paid Search</td>\n",
       "      <td>(conversion)</td>\n",
       "      <td>0.169710</td>\n",
       "    </tr>\n",
       "    <tr>\n",
       "      <th>8</th>\n",
       "      <td>Instagram</td>\n",
       "      <td>(conversion)</td>\n",
       "      <td>0.152381</td>\n",
       "    </tr>\n",
       "    <tr>\n",
       "      <th>18</th>\n",
       "      <td>Facebook</td>\n",
       "      <td>(conversion)</td>\n",
       "      <td>0.137502</td>\n",
       "    </tr>\n",
       "    <tr>\n",
       "      <th>31</th>\n",
       "      <td>Online Video</td>\n",
       "      <td>(conversion)</td>\n",
       "      <td>0.124517</td>\n",
       "    </tr>\n",
       "  </tbody>\n",
       "</table>\n",
       "</div>"
      ],
      "text/plain": [
       "      channel_from    channel_to  transition_probability\n",
       "11  Online Display  (conversion)                0.214286\n",
       "25     Paid Search  (conversion)                0.169710\n",
       "8        Instagram  (conversion)                0.152381\n",
       "18        Facebook  (conversion)                0.137502\n",
       "31    Online Video  (conversion)                0.124517"
      ]
     },
     "execution_count": 62,
     "metadata": {},
     "output_type": "execute_result"
    }
   ],
   "source": [
    "# table2\n",
    "transition_df[transition_df.channel_to == '(conversion)'].sort_values('transition_probability', ascending = False)"
   ]
  },
  {
   "cell_type": "code",
   "execution_count": 60,
   "metadata": {},
   "outputs": [
    {
     "data": {
      "text/html": [
       "<div>\n",
       "<style scoped>\n",
       "    .dataframe tbody tr th:only-of-type {\n",
       "        vertical-align: middle;\n",
       "    }\n",
       "\n",
       "    .dataframe tbody tr th {\n",
       "        vertical-align: top;\n",
       "    }\n",
       "\n",
       "    .dataframe thead th {\n",
       "        text-align: right;\n",
       "    }\n",
       "</style>\n",
       "<table border=\"1\" class=\"dataframe\">\n",
       "  <thead>\n",
       "    <tr style=\"text-align: right;\">\n",
       "      <th></th>\n",
       "      <th>channel_name</th>\n",
       "      <th>removal_effect</th>\n",
       "    </tr>\n",
       "  </thead>\n",
       "  <tbody>\n",
       "    <tr>\n",
       "      <th>2</th>\n",
       "      <td>Facebook</td>\n",
       "      <td>0.7485</td>\n",
       "    </tr>\n",
       "    <tr>\n",
       "      <th>0</th>\n",
       "      <td>Instagram</td>\n",
       "      <td>0.6073</td>\n",
       "    </tr>\n",
       "    <tr>\n",
       "      <th>3</th>\n",
       "      <td>Paid Search</td>\n",
       "      <td>0.3972</td>\n",
       "    </tr>\n",
       "    <tr>\n",
       "      <th>4</th>\n",
       "      <td>Online Video</td>\n",
       "      <td>0.3005</td>\n",
       "    </tr>\n",
       "    <tr>\n",
       "      <th>1</th>\n",
       "      <td>Online Display</td>\n",
       "      <td>0.2614</td>\n",
       "    </tr>\n",
       "  </tbody>\n",
       "</table>\n",
       "</div>"
      ],
      "text/plain": [
       "     channel_name  removal_effect\n",
       "2        Facebook          0.7485\n",
       "0       Instagram          0.6073\n",
       "3     Paid Search          0.3972\n",
       "4    Online Video          0.3005\n",
       "1  Online Display          0.2614"
      ]
     },
     "execution_count": 60,
     "metadata": {},
     "output_type": "execute_result"
    }
   ],
   "source": [
    "# table3\n",
    "mm.removal_effects_.sort_values('removal_effect', ascending = False)"
   ]
  },
  {
   "cell_type": "code",
   "execution_count": 59,
   "metadata": {},
   "outputs": [
    {
     "data": {
      "image/png": "[encoded data removed]",
      "text/plain": [
       "<Figure size 1080x576 with 1 Axes>"
      ]
     },
     "metadata": {
      "needs_background": "light"
     },
     "output_type": "display_data"
    }
   ],
   "source": [
    "#chart\n",
    "plt.subplots(figsize=(15,8))\n",
    "s = sns.barplot(x='channel', y='shapley_value', data=shapley_value_df)\n",
    "for idx, row in shapley_value_df.iterrows():\n",
    "    s.text(row.name, row.shapley_value+300, round(row.shapley_value,1), ha='center', color='darkslategray', fontweight='semibold')\n",
    "plt.title(\"CHANNEL'S SHAPLEY VALUE\", \n",
    "          fontdict={'fontsize': 17, 'fontweight': 'semibold', 'color':'#444455'}, \n",
    "          loc='center', pad=15)    \n",
    "plt.show()"
   ]
  },
  {
   "cell_type": "code",
   "execution_count": 1,
   "metadata": {
    "ExecuteTime": {
     "end_time": "2021-05-19T11:59:10.593027Z",
     "start_time": "2021-05-19T11:59:08.518908Z"
    }
   },
   "outputs": [],
   "source": [
    "import pandas as pd\n",
    "import os\n",
    "import numpy as np"
   ]
  },
  {
   "cell_type": "code",
   "execution_count": 2,
   "metadata": {
    "ExecuteTime": {
     "end_time": "2021-05-19T11:59:11.493299Z",
     "start_time": "2021-05-19T11:59:10.626964Z"
    }
   },
   "outputs": [],
   "source": [
    "df = pd.read_csv('attribution data.csv')\n",
    "df['Date_time'] = pd.to_datetime(df['time'] , format = '%Y-%m-%dT%H:%M:%SZ')"
   ]
  },
  {
   "cell_type": "markdown",
   "metadata": {},
   "source": [
    "# Data exploration"
   ]
  },
  {
   "cell_type": "code",
   "execution_count": 3,
   "metadata": {
    "ExecuteTime": {
     "end_time": "2021-05-19T11:59:17.107008Z",
     "start_time": "2021-05-19T11:59:17.066093Z"
    }
   },
   "outputs": [
    {
     "name": "stdout",
     "output_type": "stream",
     "text": [
      "2018-07-01 13:13:16 2018-07-31 23:59:30\n"
     ]
    }
   ],
   "source": [
    "print(df['Date_time'].min(), df['Date_time'].max())"
   ]
  },
  {
   "cell_type": "code",
   "execution_count": 4,
   "metadata": {
    "ExecuteTime": {
     "end_time": "2021-05-19T14:03:04.965867Z",
     "start_time": "2021-05-19T14:03:04.942927Z"
    }
   },
   "outputs": [
    {
     "data": {
      "text/html": [
       "<div>\n",
       "<style scoped>\n",
       "    .dataframe tbody tr th:only-of-type {\n",
       "        vertical-align: middle;\n",
       "    }\n",
       "\n",
       "    .dataframe tbody tr th {\n",
       "        vertical-align: top;\n",
       "    }\n",
       "\n",
       "    .dataframe thead th {\n",
       "        text-align: right;\n",
       "    }\n",
       "</style>\n",
       "<table border=\"1\" class=\"dataframe\">\n",
       "  <thead>\n",
       "    <tr style=\"text-align: right;\">\n",
       "      <th></th>\n",
       "      <th>cookie</th>\n",
       "      <th>time</th>\n",
       "      <th>interaction</th>\n",
       "      <th>conversion</th>\n",
       "      <th>conversion_value</th>\n",
       "      <th>channel</th>\n",
       "      <th>Date_time</th>\n",
       "    </tr>\n",
       "  </thead>\n",
       "  <tbody>\n",
       "    <tr>\n",
       "      <th>273522</th>\n",
       "      <td>DDk79CD33kfiAno3AAiE37CoC</td>\n",
       "      <td>2018-07-25T14:00:43Z</td>\n",
       "      <td>impression</td>\n",
       "      <td>0</td>\n",
       "      <td>0.0</td>\n",
       "      <td>Online Video</td>\n",
       "      <td>2018-07-25 14:00:43</td>\n",
       "    </tr>\n",
       "    <tr>\n",
       "      <th>549159</th>\n",
       "      <td>nokn0AEi0ifkkBCi9o7BoFFAA</td>\n",
       "      <td>2018-07-18T12:31:03Z</td>\n",
       "      <td>impression</td>\n",
       "      <td>0</td>\n",
       "      <td>0.0</td>\n",
       "      <td>Online Display</td>\n",
       "      <td>2018-07-18 12:31:03</td>\n",
       "    </tr>\n",
       "    <tr>\n",
       "      <th>361513</th>\n",
       "      <td>Fn37kAAn7iFFBh7CBiDBoCn97</td>\n",
       "      <td>2018-07-07T14:58:34Z</td>\n",
       "      <td>impression</td>\n",
       "      <td>0</td>\n",
       "      <td>0.0</td>\n",
       "      <td>Facebook</td>\n",
       "      <td>2018-07-07 14:58:34</td>\n",
       "    </tr>\n",
       "    <tr>\n",
       "      <th>351466</th>\n",
       "      <td>FFFBB7fF3h77CoFFoihn7fhFA</td>\n",
       "      <td>2018-07-26T12:28:07Z</td>\n",
       "      <td>impression</td>\n",
       "      <td>0</td>\n",
       "      <td>0.0</td>\n",
       "      <td>Paid Search</td>\n",
       "      <td>2018-07-26 12:28:07</td>\n",
       "    </tr>\n",
       "    <tr>\n",
       "      <th>310016</th>\n",
       "      <td>EDhD0Fk9EfonAE9ikC990Eh3E</td>\n",
       "      <td>2018-07-09T09:39:45Z</td>\n",
       "      <td>impression</td>\n",
       "      <td>0</td>\n",
       "      <td>0.0</td>\n",
       "      <td>Facebook</td>\n",
       "      <td>2018-07-09 09:39:45</td>\n",
       "    </tr>\n",
       "    <tr>\n",
       "      <th>114848</th>\n",
       "      <td>97EFDABE09k790knF3F7kk0Bi</td>\n",
       "      <td>2018-07-22T23:30:34Z</td>\n",
       "      <td>impression</td>\n",
       "      <td>0</td>\n",
       "      <td>0.0</td>\n",
       "      <td>Online Display</td>\n",
       "      <td>2018-07-22 23:30:34</td>\n",
       "    </tr>\n",
       "    <tr>\n",
       "      <th>500667</th>\n",
       "      <td>kfnfED07oBEiofFAB0nA7Foi9</td>\n",
       "      <td>2018-07-13T10:14:07Z</td>\n",
       "      <td>impression</td>\n",
       "      <td>0</td>\n",
       "      <td>0.0</td>\n",
       "      <td>Facebook</td>\n",
       "      <td>2018-07-13 10:14:07</td>\n",
       "    </tr>\n",
       "  </tbody>\n",
       "</table>\n",
       "</div>"
      ],
      "text/plain": [
       "                           cookie                  time interaction  \\\n",
       "273522  DDk79CD33kfiAno3AAiE37CoC  2018-07-25T14:00:43Z  impression   \n",
       "549159  nokn0AEi0ifkkBCi9o7BoFFAA  2018-07-18T12:31:03Z  impression   \n",
       "361513  Fn37kAAn7iFFBh7CBiDBoCn97  2018-07-07T14:58:34Z  impression   \n",
       "351466  FFFBB7fF3h77CoFFoihn7fhFA  2018-07-26T12:28:07Z  impression   \n",
       "310016  EDhD0Fk9EfonAE9ikC990Eh3E  2018-07-09T09:39:45Z  impression   \n",
       "114848  97EFDABE09k790knF3F7kk0Bi  2018-07-22T23:30:34Z  impression   \n",
       "500667  kfnfED07oBEiofFAB0nA7Foi9  2018-07-13T10:14:07Z  impression   \n",
       "\n",
       "        conversion  conversion_value         channel           Date_time  \n",
       "273522           0               0.0    Online Video 2018-07-25 14:00:43  \n",
       "549159           0               0.0  Online Display 2018-07-18 12:31:03  \n",
       "361513           0               0.0        Facebook 2018-07-07 14:58:34  \n",
       "351466           0               0.0     Paid Search 2018-07-26 12:28:07  \n",
       "310016           0               0.0        Facebook 2018-07-09 09:39:45  \n",
       "114848           0               0.0  Online Display 2018-07-22 23:30:34  \n",
       "500667           0               0.0        Facebook 2018-07-13 10:14:07  "
      ]
     },
     "execution_count": 4,
     "metadata": {},
     "output_type": "execute_result"
    }
   ],
   "source": [
    "df.sample(7)"
   ]
  },
  {
   "cell_type": "code",
   "execution_count": 5,
   "metadata": {},
   "outputs": [
    {
     "data": {
      "text/plain": [
       "array(['impression', 'conversion'], dtype=object)"
      ]
     },
     "execution_count": 5,
     "metadata": {},
     "output_type": "execute_result"
    }
   ],
   "source": [
    "df.interaction.unique()"
   ]
  },
  {
   "cell_type": "code",
   "execution_count": 6,
   "metadata": {},
   "outputs": [
    {
     "data": {
      "text/html": [
       "<div>\n",
       "<style scoped>\n",
       "    .dataframe tbody tr th:only-of-type {\n",
       "        vertical-align: middle;\n",
       "    }\n",
       "\n",
       "    .dataframe tbody tr th {\n",
       "        vertical-align: top;\n",
       "    }\n",
       "\n",
       "    .dataframe thead th {\n",
       "        text-align: right;\n",
       "    }\n",
       "</style>\n",
       "<table border=\"1\" class=\"dataframe\">\n",
       "  <thead>\n",
       "    <tr style=\"text-align: right;\">\n",
       "      <th></th>\n",
       "      <th>cookie</th>\n",
       "      <th>time</th>\n",
       "      <th>interaction</th>\n",
       "      <th>conversion</th>\n",
       "      <th>conversion_value</th>\n",
       "      <th>channel</th>\n",
       "      <th>Date_time</th>\n",
       "    </tr>\n",
       "  </thead>\n",
       "  <tbody>\n",
       "    <tr>\n",
       "      <th>22</th>\n",
       "      <td>0007oEBhnoF97AoEE3BCkFnhB</td>\n",
       "      <td>2018-07-06T13:45:29Z</td>\n",
       "      <td>conversion</td>\n",
       "      <td>1</td>\n",
       "      <td>6.5</td>\n",
       "      <td>Paid Search</td>\n",
       "      <td>2018-07-06 13:45:29</td>\n",
       "    </tr>\n",
       "    <tr>\n",
       "      <th>23</th>\n",
       "      <td>00090n9EBBEkA000C7Cik999D</td>\n",
       "      <td>2018-07-05T06:53:53Z</td>\n",
       "      <td>conversion</td>\n",
       "      <td>1</td>\n",
       "      <td>8.0</td>\n",
       "      <td>Facebook</td>\n",
       "      <td>2018-07-05 06:53:53</td>\n",
       "    </tr>\n",
       "    <tr>\n",
       "      <th>83</th>\n",
       "      <td>000h3n9nC0hFhE3CCnkkAof7n</td>\n",
       "      <td>2018-07-19T14:31:57Z</td>\n",
       "      <td>conversion</td>\n",
       "      <td>1</td>\n",
       "      <td>6.0</td>\n",
       "      <td>Facebook</td>\n",
       "      <td>2018-07-19 14:31:57</td>\n",
       "    </tr>\n",
       "    <tr>\n",
       "      <th>109</th>\n",
       "      <td>000hCBnCB7oi7ADAEnEBCnBEE</td>\n",
       "      <td>2018-07-25T11:15:16Z</td>\n",
       "      <td>conversion</td>\n",
       "      <td>1</td>\n",
       "      <td>6.5</td>\n",
       "      <td>Online Video</td>\n",
       "      <td>2018-07-25 11:15:16</td>\n",
       "    </tr>\n",
       "    <tr>\n",
       "      <th>124</th>\n",
       "      <td>000kiDB3D0fCfDAohCDB3ohko</td>\n",
       "      <td>2018-07-26T16:16:21Z</td>\n",
       "      <td>conversion</td>\n",
       "      <td>1</td>\n",
       "      <td>7.5</td>\n",
       "      <td>Facebook</td>\n",
       "      <td>2018-07-26 16:16:21</td>\n",
       "    </tr>\n",
       "    <tr>\n",
       "      <th>151</th>\n",
       "      <td>0033CAi9nhFf0DAA7DDCC3FAn</td>\n",
       "      <td>2018-07-25T20:46:15Z</td>\n",
       "      <td>conversion</td>\n",
       "      <td>1</td>\n",
       "      <td>7.0</td>\n",
       "      <td>Online Video</td>\n",
       "      <td>2018-07-25 20:46:15</td>\n",
       "    </tr>\n",
       "    <tr>\n",
       "      <th>225</th>\n",
       "      <td>003DDEfE3fnCo970C0oC7n30A</td>\n",
       "      <td>2018-07-19T18:34:44Z</td>\n",
       "      <td>conversion</td>\n",
       "      <td>1</td>\n",
       "      <td>5.0</td>\n",
       "      <td>Online Video</td>\n",
       "      <td>2018-07-19 18:34:44</td>\n",
       "    </tr>\n",
       "  </tbody>\n",
       "</table>\n",
       "</div>"
      ],
      "text/plain": [
       "                        cookie                  time interaction  conversion  \\\n",
       "22   0007oEBhnoF97AoEE3BCkFnhB  2018-07-06T13:45:29Z  conversion           1   \n",
       "23   00090n9EBBEkA000C7Cik999D  2018-07-05T06:53:53Z  conversion           1   \n",
       "83   000h3n9nC0hFhE3CCnkkAof7n  2018-07-19T14:31:57Z  conversion           1   \n",
       "109  000hCBnCB7oi7ADAEnEBCnBEE  2018-07-25T11:15:16Z  conversion           1   \n",
       "124  000kiDB3D0fCfDAohCDB3ohko  2018-07-26T16:16:21Z  conversion           1   \n",
       "151  0033CAi9nhFf0DAA7DDCC3FAn  2018-07-25T20:46:15Z  conversion           1   \n",
       "225  003DDEfE3fnCo970C0oC7n30A  2018-07-19T18:34:44Z  conversion           1   \n",
       "\n",
       "     conversion_value       channel           Date_time  \n",
       "22                6.5   Paid Search 2018-07-06 13:45:29  \n",
       "23                8.0      Facebook 2018-07-05 06:53:53  \n",
       "83                6.0      Facebook 2018-07-19 14:31:57  \n",
       "109               6.5  Online Video 2018-07-25 11:15:16  \n",
       "124               7.5      Facebook 2018-07-26 16:16:21  \n",
       "151               7.0  Online Video 2018-07-25 20:46:15  \n",
       "225               5.0  Online Video 2018-07-19 18:34:44  "
      ]
     },
     "execution_count": 6,
     "metadata": {},
     "output_type": "execute_result"
    }
   ],
   "source": [
    "df[df.interaction == 'conversion'].head(7)"
   ]
  },
  {
   "cell_type": "code",
   "execution_count": 7,
   "metadata": {
    "ExecuteTime": {
     "end_time": "2021-05-18T13:00:52.367191Z",
     "start_time": "2021-05-18T13:00:52.307318Z"
    }
   },
   "outputs": [
    {
     "data": {
      "text/plain": [
       "{'Facebook', 'Instagram', 'Online Display', 'Online Video', 'Paid Search'}"
      ]
     },
     "execution_count": 7,
     "metadata": {},
     "output_type": "execute_result"
    }
   ],
   "source": [
    "channel = set(df['channel'])\n",
    "channel"
   ]
  },
  {
   "cell_type": "code",
   "execution_count": 8,
   "metadata": {},
   "outputs": [
    {
     "data": {
      "text/html": [
       "<div>\n",
       "<style scoped>\n",
       "    .dataframe tbody tr th:only-of-type {\n",
       "        vertical-align: middle;\n",
       "    }\n",
       "\n",
       "    .dataframe tbody tr th {\n",
       "        vertical-align: top;\n",
       "    }\n",
       "\n",
       "    .dataframe thead th {\n",
       "        text-align: right;\n",
       "    }\n",
       "</style>\n",
       "<table border=\"1\" class=\"dataframe\">\n",
       "  <thead>\n",
       "    <tr style=\"text-align: right;\">\n",
       "      <th></th>\n",
       "      <th>cookie</th>\n",
       "      <th>time</th>\n",
       "      <th>interaction</th>\n",
       "      <th>conversion</th>\n",
       "      <th>conversion_value</th>\n",
       "      <th>channel</th>\n",
       "      <th>Date_time</th>\n",
       "    </tr>\n",
       "  </thead>\n",
       "  <tbody>\n",
       "    <tr>\n",
       "      <th>586736</th>\n",
       "      <td>ooooohAFofEnonEikhAi3fF9o</td>\n",
       "      <td>2018-07-14T17:17:12Z</td>\n",
       "      <td>impression</td>\n",
       "      <td>0</td>\n",
       "      <td>0.0</td>\n",
       "      <td>Paid Search</td>\n",
       "      <td>2018-07-14 17:17:12</td>\n",
       "    </tr>\n",
       "    <tr>\n",
       "      <th>586734</th>\n",
       "      <td>ooooiBh70D3k3BfAhDFfii9h7</td>\n",
       "      <td>2018-07-03T12:57:25Z</td>\n",
       "      <td>impression</td>\n",
       "      <td>0</td>\n",
       "      <td>0.0</td>\n",
       "      <td>Paid Search</td>\n",
       "      <td>2018-07-03 12:57:25</td>\n",
       "    </tr>\n",
       "    <tr>\n",
       "      <th>586735</th>\n",
       "      <td>ooooiBh70D3k3BfAhDFfii9h7</td>\n",
       "      <td>2018-07-19T08:17:59Z</td>\n",
       "      <td>impression</td>\n",
       "      <td>0</td>\n",
       "      <td>0.0</td>\n",
       "      <td>Online Video</td>\n",
       "      <td>2018-07-19 08:17:59</td>\n",
       "    </tr>\n",
       "    <tr>\n",
       "      <th>586731</th>\n",
       "      <td>ooooEiB0CCoEf9fiiC90Dfhfk</td>\n",
       "      <td>2018-07-06T23:30:38Z</td>\n",
       "      <td>impression</td>\n",
       "      <td>0</td>\n",
       "      <td>0.0</td>\n",
       "      <td>Online Display</td>\n",
       "      <td>2018-07-06 23:30:38</td>\n",
       "    </tr>\n",
       "    <tr>\n",
       "      <th>586732</th>\n",
       "      <td>ooooEiB0CCoEf9fiiC90Dfhfk</td>\n",
       "      <td>2018-07-12T23:50:45Z</td>\n",
       "      <td>impression</td>\n",
       "      <td>0</td>\n",
       "      <td>0.0</td>\n",
       "      <td>Online Display</td>\n",
       "      <td>2018-07-12 23:50:45</td>\n",
       "    </tr>\n",
       "    <tr>\n",
       "      <th>...</th>\n",
       "      <td>...</td>\n",
       "      <td>...</td>\n",
       "      <td>...</td>\n",
       "      <td>...</td>\n",
       "      <td>...</td>\n",
       "      <td>...</td>\n",
       "      <td>...</td>\n",
       "    </tr>\n",
       "    <tr>\n",
       "      <th>9</th>\n",
       "      <td>0000nACkD9nFkBBDECD3ki00E</td>\n",
       "      <td>2018-07-11T22:19:53Z</td>\n",
       "      <td>impression</td>\n",
       "      <td>0</td>\n",
       "      <td>0.0</td>\n",
       "      <td>Paid Search</td>\n",
       "      <td>2018-07-11 22:19:53</td>\n",
       "    </tr>\n",
       "    <tr>\n",
       "      <th>0</th>\n",
       "      <td>00000FkCnDfDDf0iC97iC703B</td>\n",
       "      <td>2018-07-03T13:02:11Z</td>\n",
       "      <td>impression</td>\n",
       "      <td>0</td>\n",
       "      <td>0.0</td>\n",
       "      <td>Instagram</td>\n",
       "      <td>2018-07-03 13:02:11</td>\n",
       "    </tr>\n",
       "    <tr>\n",
       "      <th>1</th>\n",
       "      <td>00000FkCnDfDDf0iC97iC703B</td>\n",
       "      <td>2018-07-17T19:15:07Z</td>\n",
       "      <td>impression</td>\n",
       "      <td>0</td>\n",
       "      <td>0.0</td>\n",
       "      <td>Online Display</td>\n",
       "      <td>2018-07-17 19:15:07</td>\n",
       "    </tr>\n",
       "    <tr>\n",
       "      <th>2</th>\n",
       "      <td>00000FkCnDfDDf0iC97iC703B</td>\n",
       "      <td>2018-07-24T15:51:46Z</td>\n",
       "      <td>impression</td>\n",
       "      <td>0</td>\n",
       "      <td>0.0</td>\n",
       "      <td>Online Display</td>\n",
       "      <td>2018-07-24 15:51:46</td>\n",
       "    </tr>\n",
       "    <tr>\n",
       "      <th>3</th>\n",
       "      <td>00000FkCnDfDDf0iC97iC703B</td>\n",
       "      <td>2018-07-29T07:44:51Z</td>\n",
       "      <td>impression</td>\n",
       "      <td>0</td>\n",
       "      <td>0.0</td>\n",
       "      <td>Online Display</td>\n",
       "      <td>2018-07-29 07:44:51</td>\n",
       "    </tr>\n",
       "  </tbody>\n",
       "</table>\n",
       "<p>586737 rows × 7 columns</p>\n",
       "</div>"
      ],
      "text/plain": [
       "                           cookie                  time interaction  \\\n",
       "586736  ooooohAFofEnonEikhAi3fF9o  2018-07-14T17:17:12Z  impression   \n",
       "586734  ooooiBh70D3k3BfAhDFfii9h7  2018-07-03T12:57:25Z  impression   \n",
       "586735  ooooiBh70D3k3BfAhDFfii9h7  2018-07-19T08:17:59Z  impression   \n",
       "586731  ooooEiB0CCoEf9fiiC90Dfhfk  2018-07-06T23:30:38Z  impression   \n",
       "586732  ooooEiB0CCoEf9fiiC90Dfhfk  2018-07-12T23:50:45Z  impression   \n",
       "...                           ...                   ...         ...   \n",
       "9       0000nACkD9nFkBBDECD3ki00E  2018-07-11T22:19:53Z  impression   \n",
       "0       00000FkCnDfDDf0iC97iC703B  2018-07-03T13:02:11Z  impression   \n",
       "1       00000FkCnDfDDf0iC97iC703B  2018-07-17T19:15:07Z  impression   \n",
       "2       00000FkCnDfDDf0iC97iC703B  2018-07-24T15:51:46Z  impression   \n",
       "3       00000FkCnDfDDf0iC97iC703B  2018-07-29T07:44:51Z  impression   \n",
       "\n",
       "        conversion  conversion_value         channel           Date_time  \n",
       "586736           0               0.0     Paid Search 2018-07-14 17:17:12  \n",
       "586734           0               0.0     Paid Search 2018-07-03 12:57:25  \n",
       "586735           0               0.0    Online Video 2018-07-19 08:17:59  \n",
       "586731           0               0.0  Online Display 2018-07-06 23:30:38  \n",
       "586732           0               0.0  Online Display 2018-07-12 23:50:45  \n",
       "...            ...               ...             ...                 ...  \n",
       "9                0               0.0     Paid Search 2018-07-11 22:19:53  \n",
       "0                0               0.0       Instagram 2018-07-03 13:02:11  \n",
       "1                0               0.0  Online Display 2018-07-17 19:15:07  \n",
       "2                0               0.0  Online Display 2018-07-24 15:51:46  \n",
       "3                0               0.0  Online Display 2018-07-29 07:44:51  \n",
       "\n",
       "[586737 rows x 7 columns]"
      ]
     },
     "execution_count": 8,
     "metadata": {},
     "output_type": "execute_result"
    }
   ],
   "source": [
    "df.sort_values(['cookie','Date_time'], ascending = [False, True])"
   ]
  },
  {
   "cell_type": "markdown",
   "metadata": {},
   "source": [
    "### Total conversion rate"
   ]
  },
  {
   "cell_type": "code",
   "execution_count": 9,
   "metadata": {
    "ExecuteTime": {
     "end_time": "2021-05-18T13:00:06.264725Z",
     "start_time": "2021-05-18T13:00:06.235802Z"
    }
   },
   "outputs": [
    {
     "data": {
      "text/plain": [
       "0    569098\n",
       "1     17639\n",
       "Name: conversion, dtype: int64"
      ]
     },
     "execution_count": 9,
     "metadata": {},
     "output_type": "execute_result"
    }
   ],
   "source": [
    "df.conversion.value_counts()"
   ]
  },
  {
   "cell_type": "code",
   "execution_count": 10,
   "metadata": {},
   "outputs": [
    {
     "data": {
      "text/plain": [
       "'CR 3.0%'"
      ]
     },
     "execution_count": 10,
     "metadata": {},
     "output_type": "execute_result"
    }
   ],
   "source": [
    "'CR {0:.1f}%'.format(round((17639/(569098+17639)) * 100 , 2))"
   ]
  },
  {
   "cell_type": "markdown",
   "metadata": {},
   "source": [
    "# Data preprocessing"
   ]
  },
  {
   "cell_type": "code",
   "execution_count": 11,
   "metadata": {
    "ExecuteTime": {
     "end_time": "2021-05-18T13:12:20.613939Z",
     "start_time": "2021-05-18T13:12:20.581042Z"
    }
   },
   "outputs": [],
   "source": [
    "mark_df = df[['cookie', 'Date_time', 'channel', 'conversion', 'conversion_value']]"
   ]
  },
  {
   "cell_type": "code",
   "execution_count": 12,
   "metadata": {},
   "outputs": [],
   "source": [
    "# Markup purchase we neet to find out paths with 1st purchase\n",
    "mark_df = mark_df.sort_values(['cookie','Date_time']).reset_index(drop = True)\n",
    "mark_df['N_path'] = mark_df.groupby('cookie')['conversion'].shift(1).fillna(0)\n",
    "mark_df['N_path'] = mark_df.groupby('cookie')['N_path'].cumsum() + 1\n",
    "mark_df['N_path'] = mark_df['N_path'].astype(int)"
   ]
  },
  {
   "cell_type": "code",
   "execution_count": 13,
   "metadata": {
    "ExecuteTime": {
     "end_time": "2021-05-18T13:12:38.362360Z",
     "start_time": "2021-05-18T13:12:38.350392Z"
    }
   },
   "outputs": [
    {
     "data": {
      "text/html": [
       "<div>\n",
       "<style scoped>\n",
       "    .dataframe tbody tr th:only-of-type {\n",
       "        vertical-align: middle;\n",
       "    }\n",
       "\n",
       "    .dataframe tbody tr th {\n",
       "        vertical-align: top;\n",
       "    }\n",
       "\n",
       "    .dataframe thead th {\n",
       "        text-align: right;\n",
       "    }\n",
       "</style>\n",
       "<table border=\"1\" class=\"dataframe\">\n",
       "  <thead>\n",
       "    <tr style=\"text-align: right;\">\n",
       "      <th></th>\n",
       "      <th>cookie</th>\n",
       "      <th>Date_time</th>\n",
       "      <th>channel</th>\n",
       "      <th>conversion</th>\n",
       "      <th>conversion_value</th>\n",
       "      <th>N_path</th>\n",
       "    </tr>\n",
       "  </thead>\n",
       "  <tbody>\n",
       "    <tr>\n",
       "      <th>0</th>\n",
       "      <td>00000FkCnDfDDf0iC97iC703B</td>\n",
       "      <td>2018-07-03 13:02:11</td>\n",
       "      <td>Instagram</td>\n",
       "      <td>0</td>\n",
       "      <td>0.0</td>\n",
       "      <td>1</td>\n",
       "    </tr>\n",
       "    <tr>\n",
       "      <th>1</th>\n",
       "      <td>00000FkCnDfDDf0iC97iC703B</td>\n",
       "      <td>2018-07-17 19:15:07</td>\n",
       "      <td>Online Display</td>\n",
       "      <td>0</td>\n",
       "      <td>0.0</td>\n",
       "      <td>1</td>\n",
       "    </tr>\n",
       "    <tr>\n",
       "      <th>2</th>\n",
       "      <td>00000FkCnDfDDf0iC97iC703B</td>\n",
       "      <td>2018-07-24 15:51:46</td>\n",
       "      <td>Online Display</td>\n",
       "      <td>0</td>\n",
       "      <td>0.0</td>\n",
       "      <td>1</td>\n",
       "    </tr>\n",
       "    <tr>\n",
       "      <th>3</th>\n",
       "      <td>00000FkCnDfDDf0iC97iC703B</td>\n",
       "      <td>2018-07-29 07:44:51</td>\n",
       "      <td>Online Display</td>\n",
       "      <td>0</td>\n",
       "      <td>0.0</td>\n",
       "      <td>1</td>\n",
       "    </tr>\n",
       "    <tr>\n",
       "      <th>4</th>\n",
       "      <td>0000nACkD9nFkBBDECD3ki00E</td>\n",
       "      <td>2018-07-03 09:44:57</td>\n",
       "      <td>Paid Search</td>\n",
       "      <td>0</td>\n",
       "      <td>0.0</td>\n",
       "      <td>1</td>\n",
       "    </tr>\n",
       "  </tbody>\n",
       "</table>\n",
       "</div>"
      ],
      "text/plain": [
       "                      cookie           Date_time         channel  conversion  \\\n",
       "0  00000FkCnDfDDf0iC97iC703B 2018-07-03 13:02:11       Instagram           0   \n",
       "1  00000FkCnDfDDf0iC97iC703B 2018-07-17 19:15:07  Online Display           0   \n",
       "2  00000FkCnDfDDf0iC97iC703B 2018-07-24 15:51:46  Online Display           0   \n",
       "3  00000FkCnDfDDf0iC97iC703B 2018-07-29 07:44:51  Online Display           0   \n",
       "4  0000nACkD9nFkBBDECD3ki00E 2018-07-03 09:44:57     Paid Search           0   \n",
       "\n",
       "   conversion_value  N_path  \n",
       "0               0.0       1  \n",
       "1               0.0       1  \n",
       "2               0.0       1  \n",
       "3               0.0       1  \n",
       "4               0.0       1  "
      ]
     },
     "execution_count": 13,
     "metadata": {},
     "output_type": "execute_result"
    }
   ],
   "source": [
    "mark_df.head()"
   ]
  },
  {
   "cell_type": "code",
   "execution_count": 14,
   "metadata": {},
   "outputs": [
    {
     "data": {
      "text/plain": [
       "array(['Instagram', 'Online Display', 'Paid Search', 'Facebook',\n",
       "       'Online Video'], dtype=object)"
      ]
     },
     "execution_count": 14,
     "metadata": {},
     "output_type": "execute_result"
    }
   ],
   "source": [
    "mark_df.channel.unique()"
   ]
  },
  {
   "cell_type": "code",
   "execution_count": 15,
   "metadata": {
    "ExecuteTime": {
     "end_time": "2021-05-18T13:12:46.722950Z",
     "start_time": "2021-05-18T13:12:46.653851Z"
    }
   },
   "outputs": [
    {
     "data": {
      "text/plain": [
       "17639"
      ]
     },
     "execution_count": 15,
     "metadata": {},
     "output_type": "execute_result"
    }
   ],
   "source": [
    "mark_df[mark_df['N_path'] == 1]['conversion'].sum()"
   ]
  },
  {
   "cell_type": "code",
   "execution_count": 16,
   "metadata": {
    "ExecuteTime": {
     "end_time": "2021-05-18T13:13:06.983428Z",
     "start_time": "2021-05-18T13:13:06.916516Z"
    }
   },
   "outputs": [],
   "source": [
    "# filter only 1st purchase\n",
    "frst_path_df = mark_df[mark_df['N_path'] == 1].loc[:, 'cookie':'conversion_value']"
   ]
  },
  {
   "cell_type": "code",
   "execution_count": 17,
   "metadata": {
    "ExecuteTime": {
     "end_time": "2021-05-18T13:13:07.931316Z",
     "start_time": "2021-05-18T13:13:07.918352Z"
    }
   },
   "outputs": [
    {
     "data": {
      "text/html": [
       "<div>\n",
       "<style scoped>\n",
       "    .dataframe tbody tr th:only-of-type {\n",
       "        vertical-align: middle;\n",
       "    }\n",
       "\n",
       "    .dataframe tbody tr th {\n",
       "        vertical-align: top;\n",
       "    }\n",
       "\n",
       "    .dataframe thead th {\n",
       "        text-align: right;\n",
       "    }\n",
       "</style>\n",
       "<table border=\"1\" class=\"dataframe\">\n",
       "  <thead>\n",
       "    <tr style=\"text-align: right;\">\n",
       "      <th></th>\n",
       "      <th>cookie</th>\n",
       "      <th>Date_time</th>\n",
       "      <th>channel</th>\n",
       "      <th>conversion</th>\n",
       "      <th>conversion_value</th>\n",
       "    </tr>\n",
       "  </thead>\n",
       "  <tbody>\n",
       "    <tr>\n",
       "      <th>0</th>\n",
       "      <td>00000FkCnDfDDf0iC97iC703B</td>\n",
       "      <td>2018-07-03 13:02:11</td>\n",
       "      <td>Instagram</td>\n",
       "      <td>0</td>\n",
       "      <td>0.0</td>\n",
       "    </tr>\n",
       "    <tr>\n",
       "      <th>1</th>\n",
       "      <td>00000FkCnDfDDf0iC97iC703B</td>\n",
       "      <td>2018-07-17 19:15:07</td>\n",
       "      <td>Online Display</td>\n",
       "      <td>0</td>\n",
       "      <td>0.0</td>\n",
       "    </tr>\n",
       "    <tr>\n",
       "      <th>2</th>\n",
       "      <td>00000FkCnDfDDf0iC97iC703B</td>\n",
       "      <td>2018-07-24 15:51:46</td>\n",
       "      <td>Online Display</td>\n",
       "      <td>0</td>\n",
       "      <td>0.0</td>\n",
       "    </tr>\n",
       "    <tr>\n",
       "      <th>3</th>\n",
       "      <td>00000FkCnDfDDf0iC97iC703B</td>\n",
       "      <td>2018-07-29 07:44:51</td>\n",
       "      <td>Online Display</td>\n",
       "      <td>0</td>\n",
       "      <td>0.0</td>\n",
       "    </tr>\n",
       "    <tr>\n",
       "      <th>4</th>\n",
       "      <td>0000nACkD9nFkBBDECD3ki00E</td>\n",
       "      <td>2018-07-03 09:44:57</td>\n",
       "      <td>Paid Search</td>\n",
       "      <td>0</td>\n",
       "      <td>0.0</td>\n",
       "    </tr>\n",
       "  </tbody>\n",
       "</table>\n",
       "</div>"
      ],
      "text/plain": [
       "                      cookie           Date_time         channel  conversion  \\\n",
       "0  00000FkCnDfDDf0iC97iC703B 2018-07-03 13:02:11       Instagram           0   \n",
       "1  00000FkCnDfDDf0iC97iC703B 2018-07-17 19:15:07  Online Display           0   \n",
       "2  00000FkCnDfDDf0iC97iC703B 2018-07-24 15:51:46  Online Display           0   \n",
       "3  00000FkCnDfDDf0iC97iC703B 2018-07-29 07:44:51  Online Display           0   \n",
       "4  0000nACkD9nFkBBDECD3ki00E 2018-07-03 09:44:57     Paid Search           0   \n",
       "\n",
       "   conversion_value  \n",
       "0               0.0  \n",
       "1               0.0  \n",
       "2               0.0  \n",
       "3               0.0  \n",
       "4               0.0  "
      ]
     },
     "execution_count": 17,
     "metadata": {},
     "output_type": "execute_result"
    }
   ],
   "source": [
    "frst_path_df.head()"
   ]
  },
  {
   "cell_type": "code",
   "execution_count": 18,
   "metadata": {},
   "outputs": [],
   "source": [
    "# split data on chains\n",
    "class preprocessing:\n",
    "    import pandas as pd\n",
    "    import numpy as np\n",
    "    import math as m\n",
    "    \n",
    "    def __init__(self): \n",
    "        self.single_chains = 0\n",
    "        self.multi_chains = 0 \n",
    "        self.all_chains = 0\n",
    "        self.multi = 0\n",
    "        self.uniq = 0\n",
    "    \n",
    "    def transform(self, df):\n",
    "        \n",
    "        def agg_f(x):\n",
    "             return pd.Series(dict(Sequence = \"%s\" %  ' > '.join(x['channel'])))\n",
    "        # markup chains of path\n",
    "        cut = df.groupby(\"cookie\")[\"channel\"].unique().apply(lambda x: 1 if len(x)==1 else 0)\n",
    "        # frst_path_df - chains with one source: start-->Facebook-->Facebook-->Facebook(conv)\n",
    "        self.uniq = df[df[\"cookie\"].isin((cut[cut==1].index))].reset_index(drop=True)\n",
    "        # multi_paths_df chains with different source: start-->Online Video-->Facebook-->Paid Search(conv)\n",
    "        self.multi = df[df[\"cookie\"].isin((cut[cut==0].index))].reset_index(drop=True)\n",
    "        \n",
    "        #join and add separate for chains\n",
    "        channels_subset = self.uniq.groupby('cookie').apply(agg_f)\n",
    "        #add conversion for chains\n",
    "        conversion = self.uniq.groupby('cookie').sum()\n",
    "        conversion[\"path\"] = channels_subset\n",
    "        self.single_chains = conversion.reset_index()[[\"cookie\", \"path\", \"conversion\",\"conversion_value\"]]\n",
    "        \n",
    "        #the same for multi chains\n",
    "        channels_subset = self.multi.groupby('cookie').apply(agg_f)\n",
    "        conversion = self.multi.groupby('cookie').sum()\n",
    "        conversion[\"path\"] = channels_subset\n",
    "        self.multi_chains = conversion.reset_index()[[\"cookie\", \"path\", \"conversion\",\"conversion_value\"]]\n",
    "        \n",
    "        #the same for all chains\n",
    "        channels_subset = df.groupby('cookie').apply(agg_f)\n",
    "        conversion = df.groupby('cookie').sum()\n",
    "        conversion.rename(columns={\"channel\":\"path\"}, inplace=True)\n",
    "        conversion[\"path\"] = channels_subset\n",
    "        self.all_chains = conversion.reset_index()[[\"cookie\", \"path\", \"conversion\",\"conversion_value\"]]\n",
    "                \n",
    "        return self"
   ]
  },
  {
   "cell_type": "code",
   "execution_count": 19,
   "metadata": {},
   "outputs": [],
   "source": [
    "prep = preprocessing()\n",
    "prep.transform(frst_path_df)\n",
    "uniq_paths_df = prep.single_chains\n",
    "multi_paths_df = prep.multi_chains\n",
    "all_paths_df = prep.all_chains\n",
    "multi_raw_df = prep.multi"
   ]
  },
  {
   "cell_type": "code",
   "execution_count": 20,
   "metadata": {},
   "outputs": [
    {
     "data": {
      "text/html": [
       "<div>\n",
       "<style scoped>\n",
       "    .dataframe tbody tr th:only-of-type {\n",
       "        vertical-align: middle;\n",
       "    }\n",
       "\n",
       "    .dataframe tbody tr th {\n",
       "        vertical-align: top;\n",
       "    }\n",
       "\n",
       "    .dataframe thead th {\n",
       "        text-align: right;\n",
       "    }\n",
       "</style>\n",
       "<table border=\"1\" class=\"dataframe\">\n",
       "  <thead>\n",
       "    <tr style=\"text-align: right;\">\n",
       "      <th></th>\n",
       "      <th>cookie</th>\n",
       "      <th>path</th>\n",
       "      <th>conversion</th>\n",
       "      <th>conversion_value</th>\n",
       "    </tr>\n",
       "  </thead>\n",
       "  <tbody>\n",
       "    <tr>\n",
       "      <th>0</th>\n",
       "      <td>00000FkCnDfDDf0iC97iC703B</td>\n",
       "      <td>Instagram &gt; Online Display &gt; Online Display &gt; ...</td>\n",
       "      <td>0</td>\n",
       "      <td>0.0</td>\n",
       "    </tr>\n",
       "    <tr>\n",
       "      <th>1</th>\n",
       "      <td>0007iiAiFh3ifoo9Ehn3ABB0F</td>\n",
       "      <td>Instagram &gt; Facebook &gt; Facebook &gt; Instagram</td>\n",
       "      <td>0</td>\n",
       "      <td>0.0</td>\n",
       "    </tr>\n",
       "    <tr>\n",
       "      <th>2</th>\n",
       "      <td>000ADEAB7fBin9fEoFFnAohi9</td>\n",
       "      <td>Online Display &gt; Paid Search</td>\n",
       "      <td>0</td>\n",
       "      <td>0.0</td>\n",
       "    </tr>\n",
       "    <tr>\n",
       "      <th>3</th>\n",
       "      <td>000C9f9DnCfoDF03BnfFAEFFC</td>\n",
       "      <td>Online Video &gt; Online Video &gt; Online Video &gt; F...</td>\n",
       "      <td>0</td>\n",
       "      <td>0.0</td>\n",
       "    </tr>\n",
       "    <tr>\n",
       "      <th>4</th>\n",
       "      <td>000DBnhEF0kF0ono0D0F3kCC0</td>\n",
       "      <td>Instagram &gt; Facebook</td>\n",
       "      <td>0</td>\n",
       "      <td>0.0</td>\n",
       "    </tr>\n",
       "  </tbody>\n",
       "</table>\n",
       "</div>"
      ],
      "text/plain": [
       "                      cookie  \\\n",
       "0  00000FkCnDfDDf0iC97iC703B   \n",
       "1  0007iiAiFh3ifoo9Ehn3ABB0F   \n",
       "2  000ADEAB7fBin9fEoFFnAohi9   \n",
       "3  000C9f9DnCfoDF03BnfFAEFFC   \n",
       "4  000DBnhEF0kF0ono0D0F3kCC0   \n",
       "\n",
       "                                                path  conversion  \\\n",
       "0  Instagram > Online Display > Online Display > ...           0   \n",
       "1        Instagram > Facebook > Facebook > Instagram           0   \n",
       "2                       Online Display > Paid Search           0   \n",
       "3  Online Video > Online Video > Online Video > F...           0   \n",
       "4                               Instagram > Facebook           0   \n",
       "\n",
       "   conversion_value  \n",
       "0               0.0  \n",
       "1               0.0  \n",
       "2               0.0  \n",
       "3               0.0  \n",
       "4               0.0  "
      ]
     },
     "execution_count": 20,
     "metadata": {},
     "output_type": "execute_result"
    }
   ],
   "source": [
    "multi_paths_df.head()"
   ]
  },
  {
   "cell_type": "markdown",
   "metadata": {},
   "source": [
    "# Markov chains"
   ]
  },
  {
   "cell_type": "code",
   "execution_count": 21,
   "metadata": {},
   "outputs": [],
   "source": [
    "from pychattr.channel_attribution import MarkovModel"
   ]
  },
  {
   "cell_type": "code",
   "execution_count": 22,
   "metadata": {
    "ExecuteTime": {
     "end_time": "2021-05-18T13:24:41.091534Z",
     "start_time": "2021-05-18T13:24:39.187909Z"
    }
   },
   "outputs": [
    {
     "data": {
      "text/plain": [
       "<pychattr.channel_attribution.markov.MarkovModel at 0x7fec6dd65f40>"
      ]
     },
     "execution_count": 22,
     "metadata": {},
     "output_type": "execute_result"
    }
   ],
   "source": [
    "df = pd.DataFrame(multi_paths_df)\n",
    "\n",
    "path_feature=\"path\"\n",
    "conversion_feature=\"conversion\"\n",
    "null_feature=None\n",
    "revenue_feature=None\n",
    "cost_feature=None\n",
    "separator=\">\"\n",
    "k_order=1\n",
    "n_simulations=10000\n",
    "max_steps=None\n",
    "return_transition_probs=True\n",
    "random_state=26\n",
    "\n",
    "# instantiate the model\n",
    "mm = MarkovModel(path_feature=path_feature,\n",
    "                 conversion_feature=conversion_feature,\n",
    "                 null_feature=null_feature,\n",
    "                 revenue_feature=revenue_feature,\n",
    "                 cost_feature=cost_feature,\n",
    "                 separator=separator,\n",
    "                 k_order=k_order,\n",
    "                 n_simulations=n_simulations,\n",
    "                 max_steps=max_steps,\n",
    "                 return_transition_probs=return_transition_probs,\n",
    "                 random_state=random_state)\n",
    "\n",
    "# fit the model\n",
    "mm.fit(df)"
   ]
  },
  {
   "cell_type": "code",
   "execution_count": 23,
   "metadata": {
    "ExecuteTime": {
     "end_time": "2021-05-18T13:24:41.200262Z",
     "start_time": "2021-05-18T13:24:41.181282Z"
    }
   },
   "outputs": [
    {
     "name": "stdout",
     "output_type": "stream",
     "text": [
      "     channel_name  total_conversions\n",
      "0       Instagram        1479.882198\n",
      "1  Online Display         636.985356\n",
      "2        Facebook        1823.961510\n",
      "3     Paid Search         967.905827\n",
      "4    Online Video         732.265109\n"
     ]
    }
   ],
   "source": [
    "# view the simulation results\n",
    "print(mm.attribution_model_)"
   ]
  },
  {
   "cell_type": "code",
   "execution_count": 24,
   "metadata": {
    "ExecuteTime": {
     "end_time": "2021-05-18T13:24:42.105057Z",
     "start_time": "2021-05-18T13:24:42.086107Z"
    }
   },
   "outputs": [
    {
     "name": "stdout",
     "output_type": "stream",
     "text": [
      "      channel_from      channel_to  transition_probability\n",
      "0          (start)    Online Video                0.103173\n",
      "1          (start)       Instagram                0.230633\n",
      "2          (start)        Facebook                0.385747\n",
      "3          (start)     Paid Search                0.177274\n",
      "4          (start)  Online Display                0.103173\n",
      "5        Instagram    Online Video                0.031203\n",
      "6        Instagram        Facebook                0.545614\n",
      "7        Instagram       Instagram                0.216541\n",
      "8        Instagram    (conversion)                0.152381\n",
      "9        Instagram     Paid Search                0.034586\n",
      "10       Instagram  Online Display                0.019674\n",
      "11  Online Display    (conversion)                0.214286\n",
      "12  Online Display  Online Display                0.355615\n",
      "13  Online Display       Instagram                0.057678\n",
      "14  Online Display     Paid Search                0.199771\n",
      "15  Online Display    Online Video                0.049656\n",
      "16  Online Display        Facebook                0.122995\n",
      "17        Facebook       Instagram                0.255694\n",
      "18        Facebook    (conversion)                0.137502\n",
      "19        Facebook    Online Video                0.034854\n",
      "20        Facebook        Facebook                0.514498\n",
      "21        Facebook  Online Display                0.018114\n",
      "22        Facebook     Paid Search                0.039338\n",
      "23     Paid Search     Paid Search                0.402578\n",
      "24     Paid Search    Online Video                0.087218\n",
      "25     Paid Search    (conversion)                0.169710\n",
      "26     Paid Search  Online Display                0.115145\n",
      "27     Paid Search       Instagram                0.064017\n",
      "28     Paid Search        Facebook                0.161332\n",
      "29    Online Video    Online Video                0.686293\n",
      "30    Online Video       Instagram                0.036197\n",
      "31    Online Video    (conversion)                0.124517\n",
      "32    Online Video     Paid Search                0.052124\n",
      "33    Online Video  Online Display                0.017535\n",
      "34    Online Video        Facebook                0.083333\n"
     ]
    }
   ],
   "source": [
    "# view the transition matrix\n",
    "print(mm.transition_matrix_)"
   ]
  },
  {
   "cell_type": "code",
   "execution_count": 25,
   "metadata": {
    "ExecuteTime": {
     "end_time": "2021-05-19T14:04:14.537031Z",
     "start_time": "2021-05-19T14:04:14.531045Z"
    }
   },
   "outputs": [],
   "source": [
    "markov_chain = pd.DataFrame(mm.attribution_model_)"
   ]
  },
  {
   "cell_type": "code",
   "execution_count": 26,
   "metadata": {},
   "outputs": [],
   "source": [
    "inter_df = multi_raw_df.groupby('channel')['Date_time'].count().reset_index()\n",
    "inter_df.rename(columns = {'Date_time':'interaction','channel':'channel_name'}, inplace = True)"
   ]
  },
  {
   "cell_type": "code",
   "execution_count": 27,
   "metadata": {},
   "outputs": [],
   "source": [
    "markov_chain = markov_chain.merge(inter_df, how = 'left', on = 'channel_name')\n",
    "markov_chain = markov_chain[['channel_name','interaction','total_conversions']]"
   ]
  },
  {
   "cell_type": "code",
   "execution_count": 28,
   "metadata": {},
   "outputs": [],
   "source": [
    "markov_chain['CR_%'] = round(markov_chain['total_conversions'] / markov_chain['interaction']*100,2)"
   ]
  },
  {
   "cell_type": "code",
   "execution_count": 29,
   "metadata": {
    "ExecuteTime": {
     "end_time": "2021-05-19T14:05:46.411626Z",
     "start_time": "2021-05-19T14:05:46.393695Z"
    }
   },
   "outputs": [],
   "source": [
    "markov_chain['share_conv_%'] = round(markov_chain['total_conversions'] / markov_chain['total_conversions'].sum() * 100, 2)"
   ]
  },
  {
   "cell_type": "code",
   "execution_count": 32,
   "metadata": {
    "ExecuteTime": {
     "end_time": "2021-05-19T14:06:27.827425Z",
     "start_time": "2021-05-19T14:06:27.811804Z"
    }
   },
   "outputs": [
    {
     "data": {
      "text/html": [
       "<div>\n",
       "<style scoped>\n",
       "    .dataframe tbody tr th:only-of-type {\n",
       "        vertical-align: middle;\n",
       "    }\n",
       "\n",
       "    .dataframe tbody tr th {\n",
       "        vertical-align: top;\n",
       "    }\n",
       "\n",
       "    .dataframe thead th {\n",
       "        text-align: right;\n",
       "    }\n",
       "</style>\n",
       "<table border=\"1\" class=\"dataframe\">\n",
       "  <thead>\n",
       "    <tr style=\"text-align: right;\">\n",
       "      <th></th>\n",
       "      <th>channel_name</th>\n",
       "      <th>interaction</th>\n",
       "      <th>total_conversions</th>\n",
       "      <th>CR_%</th>\n",
       "      <th>share_conv_%</th>\n",
       "    </tr>\n",
       "  </thead>\n",
       "  <tbody>\n",
       "    <tr>\n",
       "      <th>2</th>\n",
       "      <td>Facebook</td>\n",
       "      <td>111055</td>\n",
       "      <td>1823.961510</td>\n",
       "      <td>1.64</td>\n",
       "      <td>32.33</td>\n",
       "    </tr>\n",
       "    <tr>\n",
       "      <th>0</th>\n",
       "      <td>Instagram</td>\n",
       "      <td>56535</td>\n",
       "      <td>1479.882198</td>\n",
       "      <td>2.62</td>\n",
       "      <td>26.23</td>\n",
       "    </tr>\n",
       "    <tr>\n",
       "      <th>3</th>\n",
       "      <td>Paid Search</td>\n",
       "      <td>48600</td>\n",
       "      <td>967.905827</td>\n",
       "      <td>1.99</td>\n",
       "      <td>17.16</td>\n",
       "    </tr>\n",
       "    <tr>\n",
       "      <th>4</th>\n",
       "      <td>Online Video</td>\n",
       "      <td>38163</td>\n",
       "      <td>732.265109</td>\n",
       "      <td>1.92</td>\n",
       "      <td>12.98</td>\n",
       "    </tr>\n",
       "    <tr>\n",
       "      <th>1</th>\n",
       "      <td>Online Display</td>\n",
       "      <td>28384</td>\n",
       "      <td>636.985356</td>\n",
       "      <td>2.24</td>\n",
       "      <td>11.29</td>\n",
       "    </tr>\n",
       "  </tbody>\n",
       "</table>\n",
       "</div>"
      ],
      "text/plain": [
       "     channel_name  interaction  total_conversions  CR_%  share_conv_%\n",
       "2        Facebook       111055        1823.961510  1.64         32.33\n",
       "0       Instagram        56535        1479.882198  2.62         26.23\n",
       "3     Paid Search        48600         967.905827  1.99         17.16\n",
       "4    Online Video        38163         732.265109  1.92         12.98\n",
       "1  Online Display        28384         636.985356  2.24         11.29"
      ]
     },
     "execution_count": 32,
     "metadata": {},
     "output_type": "execute_result"
    }
   ],
   "source": [
    "markov_chain.sort_values(by='share_conv_%', ascending = False)"
   ]
  },
  {
   "cell_type": "code",
   "execution_count": 33,
   "metadata": {},
   "outputs": [],
   "source": [
    "transition_df = mm.transition_matrix_"
   ]
  },
  {
   "cell_type": "code",
   "execution_count": 34,
   "metadata": {},
   "outputs": [
    {
     "data": {
      "text/html": [
       "<div>\n",
       "<style scoped>\n",
       "    .dataframe tbody tr th:only-of-type {\n",
       "        vertical-align: middle;\n",
       "    }\n",
       "\n",
       "    .dataframe tbody tr th {\n",
       "        vertical-align: top;\n",
       "    }\n",
       "\n",
       "    .dataframe thead th {\n",
       "        text-align: right;\n",
       "    }\n",
       "</style>\n",
       "<table border=\"1\" class=\"dataframe\">\n",
       "  <thead>\n",
       "    <tr style=\"text-align: right;\">\n",
       "      <th></th>\n",
       "      <th>channel_from</th>\n",
       "      <th>channel_to</th>\n",
       "      <th>transition_probability</th>\n",
       "    </tr>\n",
       "  </thead>\n",
       "  <tbody>\n",
       "    <tr>\n",
       "      <th>11</th>\n",
       "      <td>Online Display</td>\n",
       "      <td>(conversion)</td>\n",
       "      <td>0.214286</td>\n",
       "    </tr>\n",
       "    <tr>\n",
       "      <th>25</th>\n",
       "      <td>Paid Search</td>\n",
       "      <td>(conversion)</td>\n",
       "      <td>0.169710</td>\n",
       "    </tr>\n",
       "    <tr>\n",
       "      <th>8</th>\n",
       "      <td>Instagram</td>\n",
       "      <td>(conversion)</td>\n",
       "      <td>0.152381</td>\n",
       "    </tr>\n",
       "    <tr>\n",
       "      <th>18</th>\n",
       "      <td>Facebook</td>\n",
       "      <td>(conversion)</td>\n",
       "      <td>0.137502</td>\n",
       "    </tr>\n",
       "    <tr>\n",
       "      <th>31</th>\n",
       "      <td>Online Video</td>\n",
       "      <td>(conversion)</td>\n",
       "      <td>0.124517</td>\n",
       "    </tr>\n",
       "  </tbody>\n",
       "</table>\n",
       "</div>"
      ],
      "text/plain": [
       "      channel_from    channel_to  transition_probability\n",
       "11  Online Display  (conversion)                0.214286\n",
       "25     Paid Search  (conversion)                0.169710\n",
       "8        Instagram  (conversion)                0.152381\n",
       "18        Facebook  (conversion)                0.137502\n",
       "31    Online Video  (conversion)                0.124517"
      ]
     },
     "execution_count": 34,
     "metadata": {},
     "output_type": "execute_result"
    }
   ],
   "source": [
    "transition_df[transition_df.channel_to == '(conversion)'].sort_values('transition_probability', ascending = False)"
   ]
  },
  {
   "cell_type": "code",
   "execution_count": 35,
   "metadata": {},
   "outputs": [],
   "source": [
    "# Самая высокая вероятность совершения конверсии у Online Display но поскольку у цепей маркова нет памяти учитывается только этот переход, то\n",
    "# преположу что в этот источник включается ретаргетниг с дисплейных объявлений в рекламных сетях поэтому такая высокая конверсия у этого источника\n",
    "# При этом фактически к Online Display относится малое кол-во конверсий по сравнению с другими источниками"
   ]
  },
  {
   "cell_type": "code",
   "execution_count": 36,
   "metadata": {},
   "outputs": [
    {
     "data": {
      "text/html": [
       "<div>\n",
       "<style scoped>\n",
       "    .dataframe tbody tr th:only-of-type {\n",
       "        vertical-align: middle;\n",
       "    }\n",
       "\n",
       "    .dataframe tbody tr th {\n",
       "        vertical-align: top;\n",
       "    }\n",
       "\n",
       "    .dataframe thead th {\n",
       "        text-align: right;\n",
       "    }\n",
       "</style>\n",
       "<table border=\"1\" class=\"dataframe\">\n",
       "  <thead>\n",
       "    <tr style=\"text-align: right;\">\n",
       "      <th></th>\n",
       "      <th>channel_name</th>\n",
       "      <th>removal_effect</th>\n",
       "    </tr>\n",
       "  </thead>\n",
       "  <tbody>\n",
       "    <tr>\n",
       "      <th>2</th>\n",
       "      <td>Facebook</td>\n",
       "      <td>0.7485</td>\n",
       "    </tr>\n",
       "    <tr>\n",
       "      <th>0</th>\n",
       "      <td>Instagram</td>\n",
       "      <td>0.6073</td>\n",
       "    </tr>\n",
       "    <tr>\n",
       "      <th>3</th>\n",
       "      <td>Paid Search</td>\n",
       "      <td>0.3972</td>\n",
       "    </tr>\n",
       "    <tr>\n",
       "      <th>4</th>\n",
       "      <td>Online Video</td>\n",
       "      <td>0.3005</td>\n",
       "    </tr>\n",
       "    <tr>\n",
       "      <th>1</th>\n",
       "      <td>Online Display</td>\n",
       "      <td>0.2614</td>\n",
       "    </tr>\n",
       "  </tbody>\n",
       "</table>\n",
       "</div>"
      ],
      "text/plain": [
       "     channel_name  removal_effect\n",
       "2        Facebook          0.7485\n",
       "0       Instagram          0.6073\n",
       "3     Paid Search          0.3972\n",
       "4    Online Video          0.3005\n",
       "1  Online Display          0.2614"
      ]
     },
     "execution_count": 36,
     "metadata": {},
     "output_type": "execute_result"
    }
   ],
   "source": [
    "mm.removal_effects_.sort_values('removal_effect', ascending = False)"
   ]
  },
  {
   "cell_type": "code",
   "execution_count": 37,
   "metadata": {},
   "outputs": [],
   "source": [
    "# Сильнее всего на совершение конверсий повлияет исключение каналов Facebook, Instagram в меньшей степени Online Display."
   ]
  },
  {
   "cell_type": "code",
   "execution_count": 38,
   "metadata": {
    "ExecuteTime": {
     "end_time": "2021-05-19T14:07:21.898856Z",
     "start_time": "2021-05-19T14:07:21.755523Z"
    }
   },
   "outputs": [],
   "source": [
    "# mm.transition_matrix_.to_excel('markov_chain_proba.xlsx')\n",
    "# markov_chain.to_excel('markov_chain.xlsx')"
   ]
  },
  {
   "cell_type": "markdown",
   "metadata": {},
   "source": [
    "### Heuristic Model"
   ]
  },
  {
   "cell_type": "code",
   "execution_count": 39,
   "metadata": {},
   "outputs": [],
   "source": [
    "from pychattr.channel_attribution import HeuristicModel"
   ]
  },
  {
   "cell_type": "code",
   "execution_count": 40,
   "metadata": {},
   "outputs": [
    {
     "data": {
      "text/plain": [
       "<pychattr.channel_attribution.heuristic.HeuristicModel at 0x7fec5a88cbb0>"
      ]
     },
     "execution_count": 40,
     "metadata": {},
     "output_type": "execute_result"
    }
   ],
   "source": [
    "df = pd.DataFrame(all_paths_df)\n",
    "\n",
    "path_feature=\"path\"\n",
    "conversion_feature=\"conversion\"\n",
    "null_feature=None\n",
    "revenue_feature=\"conversion_value\"\n",
    "cost_feature=None\n",
    "separator=\">\"\n",
    "first_touch=True\n",
    "last_touch=True\n",
    "linear_touch=True\n",
    "ensemble_results=True\n",
    "\n",
    "# instantiate the model\n",
    "hm = HeuristicModel(path_feature=path_feature,\n",
    "                    conversion_feature=conversion_feature,\n",
    "                    null_feature=null_feature,\n",
    "                    revenue_feature=revenue_feature,\n",
    "                    cost_feature=cost_feature,\n",
    "                    separator=separator,\n",
    "                    first_touch=first_touch,\n",
    "                    last_touch=last_touch,\n",
    "                    linear_touch=linear_touch,\n",
    "                    ensemble_results=ensemble_results)\n",
    "\n",
    "# fit the model\n",
    "hm.fit(df)"
   ]
  },
  {
   "cell_type": "code",
   "execution_count": 41,
   "metadata": {},
   "outputs": [
    {
     "data": {
      "text/html": [
       "<div>\n",
       "<style scoped>\n",
       "    .dataframe tbody tr th:only-of-type {\n",
       "        vertical-align: middle;\n",
       "    }\n",
       "\n",
       "    .dataframe tbody tr th {\n",
       "        vertical-align: top;\n",
       "    }\n",
       "\n",
       "    .dataframe thead th {\n",
       "        text-align: right;\n",
       "    }\n",
       "</style>\n",
       "<table border=\"1\" class=\"dataframe\">\n",
       "  <thead>\n",
       "    <tr style=\"text-align: right;\">\n",
       "      <th></th>\n",
       "      <th>channel</th>\n",
       "      <th>first_touch_conversions</th>\n",
       "      <th>first_touch_revenue</th>\n",
       "      <th>last_touch_conversions</th>\n",
       "      <th>last_touch_revenue</th>\n",
       "      <th>linear_touch_conversions</th>\n",
       "      <th>linear_touch_revenue</th>\n",
       "      <th>ensemble_conversions</th>\n",
       "      <th>ensemble_revenue</th>\n",
       "    </tr>\n",
       "  </thead>\n",
       "  <tbody>\n",
       "    <tr>\n",
       "      <th>0</th>\n",
       "      <td>Facebook</td>\n",
       "      <td>5177.0</td>\n",
       "      <td>32283.0</td>\n",
       "      <td>5301.0</td>\n",
       "      <td>33143.5</td>\n",
       "      <td>5218.903371</td>\n",
       "      <td>32614.300094</td>\n",
       "      <td>15696.903371</td>\n",
       "      <td>98040.800094</td>\n",
       "    </tr>\n",
       "    <tr>\n",
       "      <th>1</th>\n",
       "      <td>Instagram</td>\n",
       "      <td>2329.0</td>\n",
       "      <td>14579.5</td>\n",
       "      <td>2244.0</td>\n",
       "      <td>14039.5</td>\n",
       "      <td>2265.179353</td>\n",
       "      <td>14171.723842</td>\n",
       "      <td>6838.179353</td>\n",
       "      <td>42790.723842</td>\n",
       "    </tr>\n",
       "    <tr>\n",
       "      <th>2</th>\n",
       "      <td>Online Display</td>\n",
       "      <td>2160.0</td>\n",
       "      <td>13419.0</td>\n",
       "      <td>2139.0</td>\n",
       "      <td>13298.5</td>\n",
       "      <td>2124.315256</td>\n",
       "      <td>13205.187068</td>\n",
       "      <td>6423.315256</td>\n",
       "      <td>39922.687068</td>\n",
       "    </tr>\n",
       "    <tr>\n",
       "      <th>3</th>\n",
       "      <td>Online Video</td>\n",
       "      <td>3216.0</td>\n",
       "      <td>20225.5</td>\n",
       "      <td>3408.0</td>\n",
       "      <td>21418.0</td>\n",
       "      <td>3349.403371</td>\n",
       "      <td>21045.330408</td>\n",
       "      <td>9973.403371</td>\n",
       "      <td>62688.830408</td>\n",
       "    </tr>\n",
       "    <tr>\n",
       "      <th>4</th>\n",
       "      <td>Paid Search</td>\n",
       "      <td>4757.0</td>\n",
       "      <td>29724.0</td>\n",
       "      <td>4547.0</td>\n",
       "      <td>28331.5</td>\n",
       "      <td>4681.198650</td>\n",
       "      <td>29194.458588</td>\n",
       "      <td>13985.198650</td>\n",
       "      <td>87249.958588</td>\n",
       "    </tr>\n",
       "  </tbody>\n",
       "</table>\n",
       "</div>"
      ],
      "text/plain": [
       "          channel  first_touch_conversions  first_touch_revenue  \\\n",
       "0        Facebook                   5177.0              32283.0   \n",
       "1       Instagram                   2329.0              14579.5   \n",
       "2  Online Display                   2160.0              13419.0   \n",
       "3    Online Video                   3216.0              20225.5   \n",
       "4     Paid Search                   4757.0              29724.0   \n",
       "\n",
       "   last_touch_conversions  last_touch_revenue  linear_touch_conversions  \\\n",
       "0                  5301.0             33143.5               5218.903371   \n",
       "1                  2244.0             14039.5               2265.179353   \n",
       "2                  2139.0             13298.5               2124.315256   \n",
       "3                  3408.0             21418.0               3349.403371   \n",
       "4                  4547.0             28331.5               4681.198650   \n",
       "\n",
       "   linear_touch_revenue  ensemble_conversions  ensemble_revenue  \n",
       "0          32614.300094          15696.903371      98040.800094  \n",
       "1          14171.723842           6838.179353      42790.723842  \n",
       "2          13205.187068           6423.315256      39922.687068  \n",
       "3          21045.330408           9973.403371      62688.830408  \n",
       "4          29194.458588          13985.198650      87249.958588  "
      ]
     },
     "execution_count": 41,
     "metadata": {},
     "output_type": "execute_result"
    }
   ],
   "source": [
    "hm.attribution_model_"
   ]
  },
  {
   "cell_type": "code",
   "execution_count": 42,
   "metadata": {},
   "outputs": [],
   "source": [
    "atrib_df = hm.attribution_model_"
   ]
  },
  {
   "cell_type": "code",
   "execution_count": 43,
   "metadata": {},
   "outputs": [],
   "source": [
    "conversions_list = ['first_touch_conversions','last_touch_conversions']\n",
    "revenue_list = ['first_touch_revenue', 'last_touch_revenue']"
   ]
  },
  {
   "cell_type": "code",
   "execution_count": 44,
   "metadata": {},
   "outputs": [],
   "source": [
    "conversions_df = atrib_df[['channel'] + conversions_list]\n",
    "revenue_df = atrib_df[['channel'] + revenue_list]"
   ]
  },
  {
   "cell_type": "code",
   "execution_count": 45,
   "metadata": {},
   "outputs": [],
   "source": [
    "share_all_df = frst_path_df.groupby('channel', as_index = False).agg({'cookie':'count', 'conversion':'sum', 'conversion_value':'sum'})\n",
    "share_all_df.rename(columns = {'cookie':'interaction'}, inplace = True)\n",
    "share_all_df['share_interaction_%'] = round((share_all_df['interaction'] / share_all_df['interaction'].sum() * 100), 2)\n",
    "share_all_df['CR_%'] = round((share_all_df['conversion'] / share_all_df['interaction'] * 100), 2)\n",
    "share_all_df = share_all_df[['channel','interaction','share_interaction_%','CR_%','conversion','conversion_value']] "
   ]
  },
  {
   "cell_type": "code",
   "execution_count": 46,
   "metadata": {},
   "outputs": [
    {
     "data": {
      "text/html": [
       "<div>\n",
       "<style scoped>\n",
       "    .dataframe tbody tr th:only-of-type {\n",
       "        vertical-align: middle;\n",
       "    }\n",
       "\n",
       "    .dataframe tbody tr th {\n",
       "        vertical-align: top;\n",
       "    }\n",
       "\n",
       "    .dataframe thead th {\n",
       "        text-align: right;\n",
       "    }\n",
       "</style>\n",
       "<table border=\"1\" class=\"dataframe\">\n",
       "  <thead>\n",
       "    <tr style=\"text-align: right;\">\n",
       "      <th></th>\n",
       "      <th>channel</th>\n",
       "      <th>interaction</th>\n",
       "      <th>share_interaction_%</th>\n",
       "      <th>CR_%</th>\n",
       "      <th>conversion</th>\n",
       "      <th>conversion_value</th>\n",
       "      <th>first_touch_conversions</th>\n",
       "      <th>last_touch_conversions</th>\n",
       "      <th>CR_first_%</th>\n",
       "      <th>CR_last_%</th>\n",
       "      <th>diff_%</th>\n",
       "    </tr>\n",
       "  </thead>\n",
       "  <tbody>\n",
       "    <tr>\n",
       "      <th>0</th>\n",
       "      <td>Facebook</td>\n",
       "      <td>175741</td>\n",
       "      <td>29.95</td>\n",
       "      <td>3.02</td>\n",
       "      <td>5301</td>\n",
       "      <td>33143.5</td>\n",
       "      <td>5177.0</td>\n",
       "      <td>5301.0</td>\n",
       "      <td>2.95</td>\n",
       "      <td>3.02</td>\n",
       "      <td>2.40</td>\n",
       "    </tr>\n",
       "    <tr>\n",
       "      <th>4</th>\n",
       "      <td>Paid Search</td>\n",
       "      <td>151440</td>\n",
       "      <td>25.81</td>\n",
       "      <td>3.00</td>\n",
       "      <td>4547</td>\n",
       "      <td>28331.5</td>\n",
       "      <td>4757.0</td>\n",
       "      <td>4547.0</td>\n",
       "      <td>3.14</td>\n",
       "      <td>3.00</td>\n",
       "      <td>-4.41</td>\n",
       "    </tr>\n",
       "    <tr>\n",
       "      <th>3</th>\n",
       "      <td>Online Video</td>\n",
       "      <td>113302</td>\n",
       "      <td>19.31</td>\n",
       "      <td>3.01</td>\n",
       "      <td>3408</td>\n",
       "      <td>21418.0</td>\n",
       "      <td>3216.0</td>\n",
       "      <td>3408.0</td>\n",
       "      <td>2.84</td>\n",
       "      <td>3.01</td>\n",
       "      <td>5.97</td>\n",
       "    </tr>\n",
       "    <tr>\n",
       "      <th>1</th>\n",
       "      <td>Instagram</td>\n",
       "      <td>75201</td>\n",
       "      <td>12.82</td>\n",
       "      <td>2.98</td>\n",
       "      <td>2244</td>\n",
       "      <td>14039.5</td>\n",
       "      <td>2329.0</td>\n",
       "      <td>2244.0</td>\n",
       "      <td>3.10</td>\n",
       "      <td>2.98</td>\n",
       "      <td>-3.65</td>\n",
       "    </tr>\n",
       "    <tr>\n",
       "      <th>2</th>\n",
       "      <td>Online Display</td>\n",
       "      <td>71053</td>\n",
       "      <td>12.11</td>\n",
       "      <td>3.01</td>\n",
       "      <td>2139</td>\n",
       "      <td>13298.5</td>\n",
       "      <td>2160.0</td>\n",
       "      <td>2139.0</td>\n",
       "      <td>3.04</td>\n",
       "      <td>3.01</td>\n",
       "      <td>-0.97</td>\n",
       "    </tr>\n",
       "  </tbody>\n",
       "</table>\n",
       "</div>"
      ],
      "text/plain": [
       "          channel  interaction  share_interaction_%  CR_%  conversion  \\\n",
       "0        Facebook       175741                29.95  3.02        5301   \n",
       "4     Paid Search       151440                25.81  3.00        4547   \n",
       "3    Online Video       113302                19.31  3.01        3408   \n",
       "1       Instagram        75201                12.82  2.98        2244   \n",
       "2  Online Display        71053                12.11  3.01        2139   \n",
       "\n",
       "   conversion_value  first_touch_conversions  last_touch_conversions  \\\n",
       "0           33143.5                   5177.0                  5301.0   \n",
       "4           28331.5                   4757.0                  4547.0   \n",
       "3           21418.0                   3216.0                  3408.0   \n",
       "1           14039.5                   2329.0                  2244.0   \n",
       "2           13298.5                   2160.0                  2139.0   \n",
       "\n",
       "   CR_first_%  CR_last_%  diff_%  \n",
       "0        2.95       3.02    2.40  \n",
       "4        3.14       3.00   -4.41  \n",
       "3        2.84       3.01    5.97  \n",
       "1        3.10       2.98   -3.65  \n",
       "2        3.04       3.01   -0.97  "
      ]
     },
     "execution_count": 46,
     "metadata": {},
     "output_type": "execute_result"
    }
   ],
   "source": [
    "conv_df = share_all_df.merge(conversions_df, on = 'channel', how = 'left')\n",
    "conv_df['CR_first_%'] = round((conv_df['first_touch_conversions'] / conv_df['interaction']) * 100, 2)\n",
    "conv_df['CR_last_%'] = round((conv_df['last_touch_conversions'] / conv_df['interaction']) * 100, 2)\n",
    "conv_df.loc[:,'diff_%'] = round(((conv_df['last_touch_conversions'] - conv_df['first_touch_conversions']) / conv_df['first_touch_conversions'])* 100, 2)\n",
    "conv_df.sort_values(['first_touch_conversions'], ascending = False)"
   ]
  },
  {
   "cell_type": "code",
   "execution_count": 47,
   "metadata": {},
   "outputs": [
    {
     "data": {
      "text/html": [
       "<div>\n",
       "<style scoped>\n",
       "    .dataframe tbody tr th:only-of-type {\n",
       "        vertical-align: middle;\n",
       "    }\n",
       "\n",
       "    .dataframe tbody tr th {\n",
       "        vertical-align: top;\n",
       "    }\n",
       "\n",
       "    .dataframe thead th {\n",
       "        text-align: right;\n",
       "    }\n",
       "</style>\n",
       "<table border=\"1\" class=\"dataframe\">\n",
       "  <thead>\n",
       "    <tr style=\"text-align: right;\">\n",
       "      <th></th>\n",
       "      <th>channel</th>\n",
       "      <th>interaction</th>\n",
       "      <th>share_interaction_%</th>\n",
       "      <th>CR_%</th>\n",
       "      <th>conversion</th>\n",
       "      <th>conversion_value</th>\n",
       "      <th>first_touch_revenue</th>\n",
       "      <th>last_touch_revenue</th>\n",
       "      <th>diff_%</th>\n",
       "    </tr>\n",
       "  </thead>\n",
       "  <tbody>\n",
       "    <tr>\n",
       "      <th>0</th>\n",
       "      <td>Facebook</td>\n",
       "      <td>175741</td>\n",
       "      <td>29.95</td>\n",
       "      <td>3.02</td>\n",
       "      <td>5301</td>\n",
       "      <td>33143.5</td>\n",
       "      <td>32283.0</td>\n",
       "      <td>33143.5</td>\n",
       "      <td>2.67</td>\n",
       "    </tr>\n",
       "    <tr>\n",
       "      <th>4</th>\n",
       "      <td>Paid Search</td>\n",
       "      <td>151440</td>\n",
       "      <td>25.81</td>\n",
       "      <td>3.00</td>\n",
       "      <td>4547</td>\n",
       "      <td>28331.5</td>\n",
       "      <td>29724.0</td>\n",
       "      <td>28331.5</td>\n",
       "      <td>-4.68</td>\n",
       "    </tr>\n",
       "    <tr>\n",
       "      <th>3</th>\n",
       "      <td>Online Video</td>\n",
       "      <td>113302</td>\n",
       "      <td>19.31</td>\n",
       "      <td>3.01</td>\n",
       "      <td>3408</td>\n",
       "      <td>21418.0</td>\n",
       "      <td>20225.5</td>\n",
       "      <td>21418.0</td>\n",
       "      <td>5.90</td>\n",
       "    </tr>\n",
       "    <tr>\n",
       "      <th>1</th>\n",
       "      <td>Instagram</td>\n",
       "      <td>75201</td>\n",
       "      <td>12.82</td>\n",
       "      <td>2.98</td>\n",
       "      <td>2244</td>\n",
       "      <td>14039.5</td>\n",
       "      <td>14579.5</td>\n",
       "      <td>14039.5</td>\n",
       "      <td>-3.70</td>\n",
       "    </tr>\n",
       "    <tr>\n",
       "      <th>2</th>\n",
       "      <td>Online Display</td>\n",
       "      <td>71053</td>\n",
       "      <td>12.11</td>\n",
       "      <td>3.01</td>\n",
       "      <td>2139</td>\n",
       "      <td>13298.5</td>\n",
       "      <td>13419.0</td>\n",
       "      <td>13298.5</td>\n",
       "      <td>-0.90</td>\n",
       "    </tr>\n",
       "  </tbody>\n",
       "</table>\n",
       "</div>"
      ],
      "text/plain": [
       "          channel  interaction  share_interaction_%  CR_%  conversion  \\\n",
       "0        Facebook       175741                29.95  3.02        5301   \n",
       "4     Paid Search       151440                25.81  3.00        4547   \n",
       "3    Online Video       113302                19.31  3.01        3408   \n",
       "1       Instagram        75201                12.82  2.98        2244   \n",
       "2  Online Display        71053                12.11  3.01        2139   \n",
       "\n",
       "   conversion_value  first_touch_revenue  last_touch_revenue  diff_%  \n",
       "0           33143.5              32283.0             33143.5    2.67  \n",
       "4           28331.5              29724.0             28331.5   -4.68  \n",
       "3           21418.0              20225.5             21418.0    5.90  \n",
       "1           14039.5              14579.5             14039.5   -3.70  \n",
       "2           13298.5              13419.0             13298.5   -0.90  "
      ]
     },
     "execution_count": 47,
     "metadata": {},
     "output_type": "execute_result"
    }
   ],
   "source": [
    "rev_df = share_all_df.merge(revenue_df, on = 'channel', how = 'left')\n",
    "rev_df.loc[:,'diff_%'] = round(((rev_df['last_touch_revenue'] - rev_df['first_touch_revenue']) / rev_df['first_touch_revenue'])* 100, 2)\n",
    "rev_df.sort_values(['first_touch_revenue'], ascending = False)"
   ]
  },
  {
   "cell_type": "code",
   "execution_count": 48,
   "metadata": {},
   "outputs": [],
   "source": [
    "# Paid Search и Instagram чаще является 1м контактом для пользователей, последним контактом чаще становится Online Video, Facebook и Online Display. "
   ]
  },
  {
   "cell_type": "markdown",
   "metadata": {},
   "source": [
    "# Shapley values"
   ]
  },
  {
   "cell_type": "code",
   "execution_count": 49,
   "metadata": {
    "ExecuteTime": {
     "end_time": "2021-05-19T14:37:18.675953Z",
     "start_time": "2021-05-19T14:37:16.360862Z"
    }
   },
   "outputs": [],
   "source": [
    "from math import factorial\n",
    "import itertools\n",
    "from collections import defaultdict\n",
    "from itertools import permutations,combinations"
   ]
  },
  {
   "cell_type": "code",
   "execution_count": 50,
   "metadata": {},
   "outputs": [
    {
     "data": {
      "text/html": [
       "<div>\n",
       "<style scoped>\n",
       "    .dataframe tbody tr th:only-of-type {\n",
       "        vertical-align: middle;\n",
       "    }\n",
       "\n",
       "    .dataframe tbody tr th {\n",
       "        vertical-align: top;\n",
       "    }\n",
       "\n",
       "    .dataframe thead th {\n",
       "        text-align: right;\n",
       "    }\n",
       "</style>\n",
       "<table border=\"1\" class=\"dataframe\">\n",
       "  <thead>\n",
       "    <tr style=\"text-align: right;\">\n",
       "      <th></th>\n",
       "      <th>cookie</th>\n",
       "      <th>Date_time</th>\n",
       "      <th>channel</th>\n",
       "      <th>conversion</th>\n",
       "      <th>conversion_value</th>\n",
       "    </tr>\n",
       "  </thead>\n",
       "  <tbody>\n",
       "    <tr>\n",
       "      <th>0</th>\n",
       "      <td>00000FkCnDfDDf0iC97iC703B</td>\n",
       "      <td>2018-07-03 13:02:11</td>\n",
       "      <td>Instagram</td>\n",
       "      <td>0</td>\n",
       "      <td>0.0</td>\n",
       "    </tr>\n",
       "    <tr>\n",
       "      <th>1</th>\n",
       "      <td>00000FkCnDfDDf0iC97iC703B</td>\n",
       "      <td>2018-07-17 19:15:07</td>\n",
       "      <td>Online Display</td>\n",
       "      <td>0</td>\n",
       "      <td>0.0</td>\n",
       "    </tr>\n",
       "    <tr>\n",
       "      <th>2</th>\n",
       "      <td>00000FkCnDfDDf0iC97iC703B</td>\n",
       "      <td>2018-07-24 15:51:46</td>\n",
       "      <td>Online Display</td>\n",
       "      <td>0</td>\n",
       "      <td>0.0</td>\n",
       "    </tr>\n",
       "    <tr>\n",
       "      <th>3</th>\n",
       "      <td>00000FkCnDfDDf0iC97iC703B</td>\n",
       "      <td>2018-07-29 07:44:51</td>\n",
       "      <td>Online Display</td>\n",
       "      <td>0</td>\n",
       "      <td>0.0</td>\n",
       "    </tr>\n",
       "    <tr>\n",
       "      <th>4</th>\n",
       "      <td>0000nACkD9nFkBBDECD3ki00E</td>\n",
       "      <td>2018-07-03 09:44:57</td>\n",
       "      <td>Paid Search</td>\n",
       "      <td>0</td>\n",
       "      <td>0.0</td>\n",
       "    </tr>\n",
       "    <tr>\n",
       "      <th>...</th>\n",
       "      <td>...</td>\n",
       "      <td>...</td>\n",
       "      <td>...</td>\n",
       "      <td>...</td>\n",
       "      <td>...</td>\n",
       "    </tr>\n",
       "    <tr>\n",
       "      <th>586732</th>\n",
       "      <td>ooooEiB0CCoEf9fiiC90Dfhfk</td>\n",
       "      <td>2018-07-12 23:50:45</td>\n",
       "      <td>Online Display</td>\n",
       "      <td>0</td>\n",
       "      <td>0.0</td>\n",
       "    </tr>\n",
       "    <tr>\n",
       "      <th>586733</th>\n",
       "      <td>ooooEiB0CCoEf9fiiC90Dfhfk</td>\n",
       "      <td>2018-07-12 23:50:54</td>\n",
       "      <td>Online Display</td>\n",
       "      <td>0</td>\n",
       "      <td>0.0</td>\n",
       "    </tr>\n",
       "    <tr>\n",
       "      <th>586734</th>\n",
       "      <td>ooooiBh70D3k3BfAhDFfii9h7</td>\n",
       "      <td>2018-07-03 12:57:25</td>\n",
       "      <td>Paid Search</td>\n",
       "      <td>0</td>\n",
       "      <td>0.0</td>\n",
       "    </tr>\n",
       "    <tr>\n",
       "      <th>586735</th>\n",
       "      <td>ooooiBh70D3k3BfAhDFfii9h7</td>\n",
       "      <td>2018-07-19 08:17:59</td>\n",
       "      <td>Online Video</td>\n",
       "      <td>0</td>\n",
       "      <td>0.0</td>\n",
       "    </tr>\n",
       "    <tr>\n",
       "      <th>586736</th>\n",
       "      <td>ooooohAFofEnonEikhAi3fF9o</td>\n",
       "      <td>2018-07-14 17:17:12</td>\n",
       "      <td>Paid Search</td>\n",
       "      <td>0</td>\n",
       "      <td>0.0</td>\n",
       "    </tr>\n",
       "  </tbody>\n",
       "</table>\n",
       "<p>586737 rows × 5 columns</p>\n",
       "</div>"
      ],
      "text/plain": [
       "                           cookie           Date_time         channel  \\\n",
       "0       00000FkCnDfDDf0iC97iC703B 2018-07-03 13:02:11       Instagram   \n",
       "1       00000FkCnDfDDf0iC97iC703B 2018-07-17 19:15:07  Online Display   \n",
       "2       00000FkCnDfDDf0iC97iC703B 2018-07-24 15:51:46  Online Display   \n",
       "3       00000FkCnDfDDf0iC97iC703B 2018-07-29 07:44:51  Online Display   \n",
       "4       0000nACkD9nFkBBDECD3ki00E 2018-07-03 09:44:57     Paid Search   \n",
       "...                           ...                 ...             ...   \n",
       "586732  ooooEiB0CCoEf9fiiC90Dfhfk 2018-07-12 23:50:45  Online Display   \n",
       "586733  ooooEiB0CCoEf9fiiC90Dfhfk 2018-07-12 23:50:54  Online Display   \n",
       "586734  ooooiBh70D3k3BfAhDFfii9h7 2018-07-03 12:57:25     Paid Search   \n",
       "586735  ooooiBh70D3k3BfAhDFfii9h7 2018-07-19 08:17:59    Online Video   \n",
       "586736  ooooohAFofEnonEikhAi3fF9o 2018-07-14 17:17:12     Paid Search   \n",
       "\n",
       "        conversion  conversion_value  \n",
       "0                0               0.0  \n",
       "1                0               0.0  \n",
       "2                0               0.0  \n",
       "3                0               0.0  \n",
       "4                0               0.0  \n",
       "...            ...               ...  \n",
       "586732           0               0.0  \n",
       "586733           0               0.0  \n",
       "586734           0               0.0  \n",
       "586735           0               0.0  \n",
       "586736           0               0.0  \n",
       "\n",
       "[586737 rows x 5 columns]"
      ]
     },
     "execution_count": 50,
     "metadata": {},
     "output_type": "execute_result"
    }
   ],
   "source": [
    "frst_path_df"
   ]
  },
  {
   "cell_type": "markdown",
   "metadata": {},
   "source": [
    "## conversion_value"
   ]
  },
  {
   "cell_type": "code",
   "execution_count": 51,
   "metadata": {},
   "outputs": [],
   "source": [
    "data_1 = frst_path_df[['cookie', 'channel', 'conversion_value']].sort_values(by=['cookie', 'channel'])\n",
    "data_2 = data_1.groupby(['cookie'], as_index=False).agg({'channel': lambda x: '>'.join(map(str,x.unique())),'conversion_value':sum})\n",
    "data_2.rename(columns={'channel':'marketing_channel_subset'}, inplace=True)\n",
    "data_3 = data_2.groupby(['marketing_channel_subset'], as_index=False).agg(sum)"
   ]
  },
  {
   "cell_type": "code",
   "execution_count": 52,
   "metadata": {},
   "outputs": [],
   "source": [
    "def set_lists_of_channel(List):\n",
    "    PS = [list(j) for i in range(len(List)) for j in itertools.combinations(List, i+1)]\n",
    "    return PS"
   ]
  },
  {
   "cell_type": "code",
   "execution_count": 53,
   "metadata": {},
   "outputs": [],
   "source": [
    "# return list of all possible sets of channels\n",
    "def subsets(s):\n",
    "    if len(s)==1:\n",
    "        return s\n",
    "    else:\n",
    "        sub_channels=[]\n",
    "        for i in range(1,len(s)+1):\n",
    "            sub_channels.extend(map(list,itertools.combinations(s, i)))\n",
    "    return list(map(\",\".join,map(sorted,sub_channels)))\n",
    "\n",
    "#computing the total value for each chains\n",
    "def v_function(A,C_values):\n",
    "    '''\n",
    "        - A : set of channels\n",
    "        - C_values : dict with values of conversions that each set of channels has given\n",
    "    '''\n",
    "    subsets_of_A = subsets(A)\n",
    "    worth_of_A=0\n",
    "    for subset in subsets_of_A:\n",
    "        if subset in C_values:\n",
    "            worth_of_A += C_values[subset]\n",
    "    return worth_of_A"
   ]
  },
  {
   "cell_type": "code",
   "execution_count": 54,
   "metadata": {},
   "outputs": [],
   "source": [
    "def calculate_shapley(df, channel_name, conv_name):\n",
    "    '''\n",
    "        - df: A dataframe with the two columns: ['channel_subset', 'conversion_value'].\n",
    "        - channel_name: name of the channel column \n",
    "        - conv_name: name of the column with conversions\n",
    "        !need an alphabetical order.            \n",
    "    '''\n",
    "    # dict with chains of channel and their value\n",
    "    c_values = df.set_index(channel_name).to_dict()[conv_name]\n",
    "    # chains with one channel\n",
    "    df['channels'] = df[channel_name].apply(lambda x: x if len(x.split(\">\")) == 1 else np.nan)\n",
    "    # list of channel\n",
    "    channels = list(df['channels'].dropna().unique())\n",
    "    \n",
    "    v_values = {}\n",
    "    #generate all possible channel combination\n",
    "    for A in set_lists_of_channel(channels): \n",
    "        v_values['>'.join(sorted(A))] = v_function(A,c_values)\n",
    "    # count of channels\n",
    "    n=len(channels)\n",
    "    shapley_values = defaultdict(int)\n",
    "\n",
    "    for channel in channels:\n",
    "        for A in v_values.keys():\n",
    "            if channel not in A.split(\">\"):\n",
    "                cardinal_A=len(A.split(\">\"))\n",
    "                A_with_channel = A.split(\">\")\n",
    "                A_with_channel.append(channel)            \n",
    "                A_with_channel=\">\".join(sorted(A_with_channel))\n",
    "                #calc weight = |S|!(n-|S|-1)!/n!\n",
    "                weight = (factorial(cardinal_A)*factorial(n-cardinal_A-1)/factorial(n))\n",
    "                #calc marginal contribution = v(S U {i})-v(S)\n",
    "                contrib = (v_values[A_with_channel]-v_values[A])\n",
    "                shapley_values[channel] += weight * contrib\n",
    "        # Add calculated value to channel\n",
    "        shapley_values[channel]+= v_values[channel]/n \n",
    "        \n",
    "    return shapley_values"
   ]
  },
  {
   "cell_type": "code",
   "execution_count": 55,
   "metadata": {},
   "outputs": [],
   "source": [
    "shapley_dict = calculate_shapley(data_3, 'marketing_channel_subset', 'conversion_value')"
   ]
  },
  {
   "cell_type": "code",
   "execution_count": 56,
   "metadata": {},
   "outputs": [
    {
     "data": {
      "text/html": [
       "<div>\n",
       "<style scoped>\n",
       "    .dataframe tbody tr th:only-of-type {\n",
       "        vertical-align: middle;\n",
       "    }\n",
       "\n",
       "    .dataframe tbody tr th {\n",
       "        vertical-align: top;\n",
       "    }\n",
       "\n",
       "    .dataframe thead th {\n",
       "        text-align: right;\n",
       "    }\n",
       "</style>\n",
       "<table border=\"1\" class=\"dataframe\">\n",
       "  <thead>\n",
       "    <tr style=\"text-align: right;\">\n",
       "      <th></th>\n",
       "      <th>channel</th>\n",
       "      <th>shapley_value</th>\n",
       "      <th>share_%</th>\n",
       "    </tr>\n",
       "  </thead>\n",
       "  <tbody>\n",
       "    <tr>\n",
       "      <th>4</th>\n",
       "      <td>Paid Search</td>\n",
       "      <td>23417.0</td>\n",
       "      <td>31.23</td>\n",
       "    </tr>\n",
       "    <tr>\n",
       "      <th>0</th>\n",
       "      <td>Facebook</td>\n",
       "      <td>18736.0</td>\n",
       "      <td>24.99</td>\n",
       "    </tr>\n",
       "    <tr>\n",
       "      <th>3</th>\n",
       "      <td>Online Video</td>\n",
       "      <td>16597.5</td>\n",
       "      <td>22.13</td>\n",
       "    </tr>\n",
       "    <tr>\n",
       "      <th>2</th>\n",
       "      <td>Online Display</td>\n",
       "      <td>9788.5</td>\n",
       "      <td>13.05</td>\n",
       "    </tr>\n",
       "    <tr>\n",
       "      <th>1</th>\n",
       "      <td>Instagram</td>\n",
       "      <td>6446.0</td>\n",
       "      <td>8.60</td>\n",
       "    </tr>\n",
       "  </tbody>\n",
       "</table>\n",
       "</div>"
      ],
      "text/plain": [
       "          channel  shapley_value  share_%\n",
       "4     Paid Search        23417.0    31.23\n",
       "0        Facebook        18736.0    24.99\n",
       "3    Online Video        16597.5    22.13\n",
       "2  Online Display         9788.5    13.05\n",
       "1       Instagram         6446.0     8.60"
      ]
     },
     "execution_count": 56,
     "metadata": {},
     "output_type": "execute_result"
    }
   ],
   "source": [
    "shapley_value_df = pd.DataFrame(shapley_dict.items(), columns = ['channel', 'shapley_value'])\n",
    "shapley_value_df['share_%'] = round((shapley_value_df['shapley_value'] / shapley_value_df['shapley_value'].sum()) * 100, 2)\n",
    "shapley_value_df.sort_values(by='share_%',ascending=False)"
   ]
  },
  {
   "cell_type": "code",
   "execution_count": 57,
   "metadata": {},
   "outputs": [],
   "source": [
    "import matplotlib as mpl\n",
    "import matplotlib.pyplot as plt\n",
    "import seaborn as sns"
   ]
  },
  {
   "cell_type": "code",
   "execution_count": 58,
   "metadata": {},
   "outputs": [
    {
     "data": {
      "image/png": "[encoded data removed]",
      "text/plain": [
       "<Figure size 1080x576 with 1 Axes>"
      ]
     },
     "metadata": {
      "needs_background": "light"
     },
     "output_type": "display_data"
    }
   ],
   "source": [
    "plt.subplots(figsize=(15,8))\n",
    "s = sns.barplot(x='channel', y='shapley_value', data=shapley_value_df)\n",
    "for idx, row in shapley_value_df.iterrows():\n",
    "    s.text(row.name, row.shapley_value+300, round(row.shapley_value,1), ha='center', color='darkslategray', fontweight='semibold')\n",
    "plt.title(\"CHANNEL'S SHAPLEY VALUE\", \n",
    "          fontdict={'fontsize': 17, 'fontweight': 'semibold', 'color':'#444455'}, \n",
    "          loc='center', pad=15)    \n",
    "plt.show()"
   ]
  },
  {
   "cell_type": "code",
   "execution_count": null,
   "metadata": {},
   "outputs": [],
   "source": []
  }
 ],
 "metadata": {
  "kernelspec": {
   "display_name": "Python 3 (ipykernel)",
   "language": "python",
   "name": "python3"
  },
  "language_info": {
   "codemirror_mode": {
    "name": "ipython",
    "version": 3
   },
   "file_extension": ".py",
   "mimetype": "text/x-python",
   "name": "python",
   "nbconvert_exporter": "python",
   "pygments_lexer": "ipython3",
   "version": "3.9.7"
  },
  "toc": {
   "base_numbering": 1,
   "nav_menu": {},
   "number_sections": true,
   "sideBar": true,
   "skip_h1_title": false,
   "title_cell": "Table of Contents",
   "title_sidebar": "Contents",
   "toc_cell": false,
   "toc_position": {},
   "toc_section_display": true,
   "toc_window_display": false
  }
 },
 "nbformat": 4,
 "nbformat_minor": 4
}
